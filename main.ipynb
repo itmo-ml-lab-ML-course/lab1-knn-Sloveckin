{
 "cells": [
  {
   "cell_type": "code",
   "execution_count": 97,
   "id": "33f8bd02",
   "metadata": {},
   "outputs": [],
   "source": [
    "import pandas as pd\n",
    "from sklearn.preprocessing import MinMaxScaler\n",
    "from sklearn.neighbors import KNeighborsClassifier\n",
    "from sklearn.model_selection import train_test_split\n",
    "from sklearn.metrics import accuracy_score\n",
    "import numpy as np\n",
    "from sklearn.metrics import mean_squared_error\n",
    "from collections import Counter\n",
    "import math\n",
    "import optuna\n",
    "import matplotlib.pyplot as plt"
   ]
  },
  {
   "cell_type": "code",
   "execution_count": 98,
   "id": "8474f8b3",
   "metadata": {},
   "outputs": [],
   "source": [
    "df = pd.read_csv(\"data.csv\")"
   ]
  },
  {
   "cell_type": "code",
   "execution_count": 99,
   "id": "55080c26",
   "metadata": {},
   "outputs": [
    {
     "name": "stdout",
     "output_type": "stream",
     "text": [
      "   Age Sex      BP Cholesterol  Na_to_K   Drug\n",
      "0   23   F    HIGH        HIGH   25.355  DrugY\n",
      "1   47   M     LOW        HIGH   13.093  drugC\n",
      "2   47   M     LOW        HIGH   10.114  drugC\n",
      "3   28   F  NORMAL        HIGH    7.798  drugX\n",
      "4   61   F     LOW        HIGH   18.043  DrugY\n"
     ]
    }
   ],
   "source": [
    "print(df.head())"
   ]
  },
  {
   "cell_type": "code",
   "execution_count": 100,
   "id": "1e4614c5",
   "metadata": {},
   "outputs": [],
   "source": [
    "df['Age'] = pd.to_numeric(df['Age'], errors='coerce')\n",
    "df['Sex'] = pd.factorize(df['Sex'])[0]\n",
    "df['BP'] = pd.factorize(df['BP'])[0]\n",
    "df['Cholesterol'] = pd.factorize(df['Cholesterol'])[0]\n",
    "df['Na_to_K'] = pd.factorize(df['Na_to_K'])[0]\n",
    "df['Drug'] = pd.factorize(df['Drug'])[0]"
   ]
  },
  {
   "cell_type": "code",
   "execution_count": 101,
   "id": "a63106b5",
   "metadata": {},
   "outputs": [],
   "source": [
    "scaler = MinMaxScaler()\n",
    "columns_to_normalize = df.columns[df.columns != 'Drug']\n",
    "df[columns_to_normalize] = scaler.fit_transform(df[columns_to_normalize])"
   ]
  },
  {
   "cell_type": "code",
   "execution_count": 102,
   "id": "0c2edc14",
   "metadata": {},
   "outputs": [
    {
     "data": {
      "text/html": [
       "<div>\n",
       "<style scoped>\n",
       "    .dataframe tbody tr th:only-of-type {\n",
       "        vertical-align: middle;\n",
       "    }\n",
       "\n",
       "    .dataframe tbody tr th {\n",
       "        vertical-align: top;\n",
       "    }\n",
       "\n",
       "    .dataframe thead th {\n",
       "        text-align: right;\n",
       "    }\n",
       "</style>\n",
       "<table border=\"1\" class=\"dataframe\">\n",
       "  <thead>\n",
       "    <tr style=\"text-align: right;\">\n",
       "      <th></th>\n",
       "      <th>Age</th>\n",
       "      <th>Sex</th>\n",
       "      <th>BP</th>\n",
       "      <th>Cholesterol</th>\n",
       "      <th>Na_to_K</th>\n",
       "      <th>Drug</th>\n",
       "    </tr>\n",
       "  </thead>\n",
       "  <tbody>\n",
       "    <tr>\n",
       "      <th>0</th>\n",
       "      <td>0.135593</td>\n",
       "      <td>0.0</td>\n",
       "      <td>0.0</td>\n",
       "      <td>0.0</td>\n",
       "      <td>0.000000</td>\n",
       "      <td>0</td>\n",
       "    </tr>\n",
       "    <tr>\n",
       "      <th>1</th>\n",
       "      <td>0.542373</td>\n",
       "      <td>1.0</td>\n",
       "      <td>0.5</td>\n",
       "      <td>0.0</td>\n",
       "      <td>0.005076</td>\n",
       "      <td>1</td>\n",
       "    </tr>\n",
       "    <tr>\n",
       "      <th>2</th>\n",
       "      <td>0.542373</td>\n",
       "      <td>1.0</td>\n",
       "      <td>0.5</td>\n",
       "      <td>0.0</td>\n",
       "      <td>0.010152</td>\n",
       "      <td>1</td>\n",
       "    </tr>\n",
       "    <tr>\n",
       "      <th>3</th>\n",
       "      <td>0.220339</td>\n",
       "      <td>0.0</td>\n",
       "      <td>1.0</td>\n",
       "      <td>0.0</td>\n",
       "      <td>0.015228</td>\n",
       "      <td>2</td>\n",
       "    </tr>\n",
       "    <tr>\n",
       "      <th>4</th>\n",
       "      <td>0.779661</td>\n",
       "      <td>0.0</td>\n",
       "      <td>0.5</td>\n",
       "      <td>0.0</td>\n",
       "      <td>0.020305</td>\n",
       "      <td>0</td>\n",
       "    </tr>\n",
       "  </tbody>\n",
       "</table>\n",
       "</div>"
      ],
      "text/plain": [
       "        Age  Sex   BP  Cholesterol   Na_to_K  Drug\n",
       "0  0.135593  0.0  0.0          0.0  0.000000     0\n",
       "1  0.542373  1.0  0.5          0.0  0.005076     1\n",
       "2  0.542373  1.0  0.5          0.0  0.010152     1\n",
       "3  0.220339  0.0  1.0          0.0  0.015228     2\n",
       "4  0.779661  0.0  0.5          0.0  0.020305     0"
      ]
     },
     "execution_count": 102,
     "metadata": {},
     "output_type": "execute_result"
    }
   ],
   "source": [
    "df.head()"
   ]
  },
  {
   "cell_type": "code",
   "execution_count": 103,
   "id": "73c8f00c",
   "metadata": {},
   "outputs": [],
   "source": [
    "X = df[['Age', 'Sex', 'BP', 'Cholesterol', 'Na_to_K']]\n",
    "y = df['Drug']"
   ]
  },
  {
   "cell_type": "code",
   "execution_count": 104,
   "id": "731eac2b",
   "metadata": {},
   "outputs": [],
   "source": [
    "X_train, X_test, y_train, y_test = train_test_split(X, y, train_size=0.4)"
   ]
  },
  {
   "cell_type": "code",
   "execution_count": 105,
   "id": "e8e0d36e",
   "metadata": {},
   "outputs": [
    {
     "name": "stdout",
     "output_type": "stream",
     "text": [
      "          Age  Sex   BP  Cholesterol   Na_to_K\n",
      "93   0.457627  0.0  0.5          1.0  0.472081\n",
      "124  0.644068  0.0  0.0          1.0  0.629442\n",
      "167  0.711864  0.0  1.0          0.0  0.842640\n",
      "83   0.389831  0.0  0.0          1.0  0.421320\n",
      "138  0.610169  1.0  0.0          1.0  0.700508\n",
      "171  0.508475  1.0  0.5          1.0  0.862944\n",
      "60   0.389831  0.0  0.5          1.0  0.304569\n",
      "132  0.576271  1.0  0.5          1.0  0.670051\n",
      "197  0.627119  1.0  1.0          0.0  0.989848\n",
      "172  0.406780  0.0  1.0          1.0  0.868020\n"
     ]
    }
   ],
   "source": [
    "print(X_train[:10])"
   ]
  },
  {
   "cell_type": "markdown",
   "id": "bc153652",
   "metadata": {},
   "source": [
    "## Sklearn"
   ]
  },
  {
   "cell_type": "code",
   "execution_count": 106,
   "id": "0e058857",
   "metadata": {},
   "outputs": [],
   "source": [
    "optuna.logging.disable_default_handler()"
   ]
  },
  {
   "cell_type": "code",
   "execution_count": 107,
   "id": "0c89b35c",
   "metadata": {},
   "outputs": [],
   "source": [
    "def neighbors_and_p_params(trial):\n",
    "    n = trial.suggest_int('n_neighbors', 3, 10)\n",
    "    p = trial.suggest_int('p', 1, 10)\n",
    "    knn = KNeighborsClassifier(n_neighbors=n, p=p)\n",
    "    knn.fit(X_train, y_train)\n",
    "    y_pred = knn.predict(X_test)\n",
    "    return accuracy_score(y_test, y_pred)\n",
    "\n",
    "def neighbors_param(trial):\n",
    "    n = trial.suggest_int('n_neighbors', low=1, high=10, step=1)\n",
    "    knn = KNeighborsClassifier(n_neighbors=n)\n",
    "    knn.fit(X_train, y_train)\n",
    "    y_pred = knn.predict(X_test)\n",
    "    return accuracy_score(y_test, y_pred)\n",
    "\n",
    "def p_param(trial):\n",
    "    p = trial.suggest_int('p', 1, 10)\n",
    "    knn = KNeighborsClassifier(p=p)\n",
    "    knn.fit(X_train, y_train)\n",
    "    y_pred = knn.predict(X_test)\n",
    "    return accuracy_score(y_test, y_pred)\n",
    "\n",
    "def print_best(tr):\n",
    "    print(\"Best params:\")\n",
    "    for key, value in tr.params.items():\n",
    "        print(key, '=', value)\n",
    "    print('Best accuracy=', tr.value)\n"
   ]
  },
  {
   "cell_type": "markdown",
   "id": "fd1b7c7c",
   "metadata": {},
   "source": [
    "## Кол-во соседей и расстояние"
   ]
  },
  {
   "cell_type": "code",
   "execution_count": 108,
   "id": "1942a4e8",
   "metadata": {
    "scrolled": true
   },
   "outputs": [
    {
     "name": "stdout",
     "output_type": "stream",
     "text": [
      "Best params:\n",
      "n_neighbors = 8\n",
      "p = 1\n",
      "Best accuracy= 0.45\n"
     ]
    }
   ],
   "source": [
    "study = optuna.create_study(direction='maximize')\n",
    "\n",
    "study.optimize(neighbors_and_p_params, n_trials=100)\n",
    "\n",
    "tr = study.best_trial\n",
    "print_best(tr)\n"
   ]
  },
  {
   "cell_type": "markdown",
   "id": "4de3c5a6",
   "metadata": {},
   "source": [
    "## Количество соседей"
   ]
  },
  {
   "cell_type": "code",
   "execution_count": 109,
   "id": "076f234f",
   "metadata": {},
   "outputs": [
    {
     "name": "stdout",
     "output_type": "stream",
     "text": [
      "Best params:\n",
      "n_neighbors = 6\n",
      "Best accuracy= 0.45\n"
     ]
    },
    {
     "data": {
      "text/plain": [
       "Text(0, 0.5, 'accuracy')"
      ]
     },
     "execution_count": 109,
     "metadata": {},
     "output_type": "execute_result"
    },
    {
     "data": {
      "image/png": "[encoded data removed]",
      "text/plain": [
       "<Figure size 640x480 with 1 Axes>"
      ]
     },
     "metadata": {},
     "output_type": "display_data"
    }
   ],
   "source": [
    "study = optuna.create_study(direction='maximize')\n",
    "study.optimize(neighbors_param, n_trials=100)\n",
    "tr = study.best_trial\n",
    "print_best(tr)\n",
    "\n",
    "x_values = [trial.params['n_neighbors'] for trial in study.get_trials()]\n",
    "y_values = [trial.value for trial in study.get_trials()]\n",
    "\n",
    "mp = dict()\n",
    "\n",
    "for i in range(len(x_values)):\n",
    "    key = x_values[i]\n",
    "    value = y_values[i]\n",
    "    if key not in mp:\n",
    "        mp[key] = value\n",
    "    else:\n",
    "        mp[key] = max(mp[key], value)\n",
    "\n",
    "sorted_dict = dict(sorted(mp.items()))\n",
    "x = list(sorted_dict.keys())\n",
    "y = list(sorted_dict.values())\n",
    "\n",
    "plt.plot(x, y, color='blue')\n",
    "plt.grid(True)\n",
    "plt.xlabel('neighbors')\n",
    "plt.ylabel('accuracy')"
   ]
  },
  {
   "cell_type": "markdown",
   "id": "34150e75",
   "metadata": {},
   "source": [
    "## Расстояние"
   ]
  },
  {
   "cell_type": "code",
   "execution_count": 110,
   "id": "e182c5b2",
   "metadata": {},
   "outputs": [
    {
     "name": "stdout",
     "output_type": "stream",
     "text": [
      "Best params:\n",
      "p = 3\n",
      "Best accuracy= 0.44166666666666665\n"
     ]
    },
    {
     "data": {
      "image/png": "[encoded data removed]",
      "text/plain": [
       "<Figure size 640x480 with 1 Axes>"
      ]
     },
     "metadata": {},
     "output_type": "display_data"
    }
   ],
   "source": [
    "study = optuna.create_study(direction='maximize')\n",
    "study.optimize(p_param, n_trials=100)\n",
    "tr = study.best_trial\n",
    "print_best(tr)\n",
    "\n",
    "x_values = [trial.params['p'] for trial in study.get_trials()]\n",
    "y_values = [trial.value for trial in study.get_trials()]\n",
    "\n",
    "\n",
    "mp = dict()\n",
    "\n",
    "mp = dict()\n",
    "\n",
    "for i in range(len(x_values)):\n",
    "    key = x_values[i]\n",
    "    value = y_values[i]\n",
    "    if key not in mp:\n",
    "        mp[key] = value\n",
    "    else:\n",
    "        mp[key] = max(mp[key], value)\n",
    "\n",
    "sorted_dict = dict(sorted(mp.items()))\n",
    "x = list(sorted_dict.keys())\n",
    "y = list(sorted_dict.values())\n",
    "\n",
    "plt.plot(x, y, color='blue')\n",
    "plt.grid(True)\n",
    "plt.xlabel('p')\n",
    "plt.ylabel('accuracy')\n",
    "plt.show()"
   ]
  },
  {
   "cell_type": "markdown",
   "id": "626b802d",
   "metadata": {},
   "source": [
    "## My knn"
   ]
  },
  {
   "cell_type": "markdown",
   "id": "cba010fa",
   "metadata": {},
   "source": [
    "## Metrics"
   ]
  },
  {
   "cell_type": "code",
   "execution_count": 111,
   "id": "060f2fc6",
   "metadata": {},
   "outputs": [],
   "source": [
    "def minkowski(a, b, p):\n",
    "    sm = 0\n",
    "    for i in range(len(a)):\n",
    "        sm = sm + (abs(a[i] - b[i]) ** p)\n",
    "    return sm ** p\n",
    "\n",
    "def cos_similarity(a, b):\n",
    "    pr = np.dot(a, b)\n",
    "    a1 = np.linalg.norm(a)\n",
    "    b1 = np.linalg.norm(b)\n",
    "    return pr / a1 * b1\n"
   ]
  },
  {
   "cell_type": "code",
   "execution_count": 112,
   "id": "0660330d",
   "metadata": {},
   "outputs": [],
   "source": [
    "def manhattan(a, b):\n",
    "    return minkowski(a, b, 1)\n",
    "\n",
    "def evk(a, b):\n",
    "    return minkowski(a, b, 2)\n",
    "\n",
    "def cos_dist(a, b):\n",
    "    return 1 - cos_similarity(a, b)\n",
    "\n",
    "metrics = [manhattan, evk, cos_dist]"
   ]
  },
  {
   "cell_type": "markdown",
   "id": "a165ed75",
   "metadata": {},
   "source": [
    "# Kernels"
   ]
  },
  {
   "cell_type": "code",
   "execution_count": 113,
   "id": "0010cbbc",
   "metadata": {},
   "outputs": [],
   "source": [
    "def uniform(u):\n",
    "    t = 1 if u < 1 else 0\n",
    "    return t * 0.5\n",
    "\n",
    "def epan(u):\n",
    "    t = 1 if u < 1 else 0\n",
    "    return 3 / 4 * (1 - u**2) * t\n",
    "\n",
    "def triang(u):\n",
    "    t = 1 if u < 1 else 0\n",
    "    return (1 - abs(u)) * t\n",
    "\n",
    "def gaussian(u):\n",
    "    return 1 / math.sqrt(2 * 3.14) * math.exp(-(u**2) / 2)\n",
    "\n",
    "kernels = [uniform, epan, triang, gaussian]"
   ]
  },
  {
   "cell_type": "code",
   "execution_count": 114,
   "id": "980d859d",
   "metadata": {},
   "outputs": [],
   "source": [
    "arr = []\n",
    "X = []\n",
    "y = []\n",
    "for _, row in df.iterrows():\n",
    "    val = []\n",
    "    for _, v in row.items():\n",
    "            val.append(v)\n",
    "    X.append(val[:-1])\n",
    "    y.append(val[-1])\n",
    "    arr.append((val[:-1], val[-1]))"
   ]
  },
  {
   "cell_type": "markdown",
   "id": "24ad265b",
   "metadata": {},
   "source": [
    "## Train and test"
   ]
  },
  {
   "cell_type": "code",
   "execution_count": 115,
   "id": "37247af6",
   "metadata": {},
   "outputs": [
    {
     "name": "stdout",
     "output_type": "stream",
     "text": [
      "([0.13559322033898308, 0.0, 0.0, 0.0, 0.0], 0.0)\n",
      "([0.5423728813559322, 1.0, 0.5, 0.0, 0.005076142131979695], 1.0)\n",
      "([0.5423728813559322, 1.0, 0.5, 0.0, 0.01015228426395939], 1.0)\n",
      "([0.22033898305084748, 0.0, 1.0, 0.0, 0.015228426395939085], 2.0)\n",
      "([0.7796610169491525, 0.0, 0.5, 0.0, 0.02030456852791878], 0.0)\n",
      "([0.11864406779661019, 0.0, 1.0, 0.0, 0.025380710659898477], 2.0)\n",
      "([0.576271186440678, 0.0, 1.0, 0.0, 0.03045685279187817], 0.0)\n",
      "([0.44067796610169496, 1.0, 0.5, 0.0, 0.035532994923857864], 1.0)\n",
      "([0.7627118644067796, 1.0, 1.0, 0.0, 0.04060913705583756], 0.0)\n",
      "([0.47457627118644063, 1.0, 0.5, 1.0, 0.04568527918781726], 0.0)\n"
     ]
    }
   ],
   "source": [
    "p = int(len(arr) * 0.4)\n",
    "train = arr[:p]\n",
    "test = arr[p:]\n",
    "for i in range(10):\n",
    "    print(train[i])"
   ]
  },
  {
   "cell_type": "code",
   "execution_count": 116,
   "id": "23a7148b",
   "metadata": {},
   "outputs": [],
   "source": [
    "def const_window(cur, data, kernel, metric, h, k, w=None):\n",
    "    dst = []\n",
    "    for i in range(len(data)):\n",
    "        el = data[i]\n",
    "        x = 1 if w == None else w[i]\n",
    "        t = x * kernel(metric(cur, el[0]) / h)\n",
    "        dst.append((el[1], t))\n",
    "    s = sorted(dst, key=lambda x: x[1])\n",
    "    f = [pair[0] for pair in s]\n",
    "    c = Counter(f[:k])\n",
    "    return c.most_common(1)[0][0]\n",
    "\n",
    "def window(cur, data, kernel, metric, k, w=None):\n",
    "    dst = []\n",
    "    for i in range(len(data)):\n",
    "        el = data[i]\n",
    "        t = metric(cur, el[0])\n",
    "        dst.append((el[1], t))\n",
    "    s = sorted(dst, key=lambda x: x[1])\n",
    "    h = s[k+1][1]\n",
    "    return const_window(cur, data, kernel, metric, h * 2, k, w)\n"
   ]
  },
  {
   "cell_type": "code",
   "execution_count": 117,
   "id": "1d0fbbcc",
   "metadata": {},
   "outputs": [],
   "source": [
    "#def predict(h, n, kernel, metric, w=None):\n",
    "#    res = []\n",
    "#    for i in range(len(test)):\n",
    "#        cur = test[i]\n",
    "#        res.append(const_window(cur[0], train, kernel, metric, h, n, w))\n",
    "#    return res\n",
    "\n",
    "def predict(n, kernel, metric, h=None, w=None):\n",
    "    res = []\n",
    "    for i in range(len(test)):\n",
    "        cur = test[i]\n",
    "        if h == None:\n",
    "            res.append(window(cur[0], train, kernel, metric, n, w))\n",
    "        else:\n",
    "            res.append(const_window(cur[0], train, kernel, metric, h, n, w))\n",
    "    return res"
   ]
  },
  {
   "cell_type": "code",
   "execution_count": 118,
   "id": "526c96f4",
   "metadata": {},
   "outputs": [],
   "source": [
    "exp = [p[1] for p in test]"
   ]
  },
  {
   "cell_type": "code",
   "execution_count": 119,
   "id": "e4453e51",
   "metadata": {},
   "outputs": [],
   "source": [
    "def all_params(trial):\n",
    "    n = trial.suggest_int('neighbors', 3, 10)\n",
    "    h = trial.suggest_int('h', 1, 100)\n",
    "    res = predict(h=h, n=n, kernel=triang, metric=evk)\n",
    "    return accuracy_score(res, exp)\n",
    "\n",
    "def my_h(trial):\n",
    "    h = trial.suggest_int('h', 1, 100)\n",
    "    res = predict(h=h, n=10, kernel=triang, metric=evk)\n",
    "    return accuracy_score(res, exp)\n",
    "\n",
    "def my_n(trial):\n",
    "    n = trial.suggest_int('neighbors', 3, 10)\n",
    "    res = predict(h=10, n=n, kernel=triang, metric=evk)\n",
    "    return accuracy_score(res, exp)\n"
   ]
  },
  {
   "cell_type": "markdown",
   "id": "2bbf766d",
   "metadata": {},
   "source": [
    "## Соседи и расстояние"
   ]
  },
  {
   "cell_type": "code",
   "execution_count": 120,
   "id": "6f2944c5",
   "metadata": {
    "scrolled": true
   },
   "outputs": [
    {
     "name": "stdout",
     "output_type": "stream",
     "text": [
      "Best params:\n",
      "neighbors = 9\n",
      "h = 1\n",
      "Best accuracy= 0.43333333333333335\n"
     ]
    }
   ],
   "source": [
    "study = optuna.create_study(direction='maximize')\n",
    "study.optimize(all_params, n_trials=100)\n",
    "\n",
    "tr = study.best_trial\n",
    "print_best(tr)"
   ]
  },
  {
   "cell_type": "markdown",
   "id": "5c360bec",
   "metadata": {},
   "source": [
    "## Расстояние"
   ]
  },
  {
   "cell_type": "code",
   "execution_count": 121,
   "id": "2a93997a",
   "metadata": {},
   "outputs": [
    {
     "name": "stdout",
     "output_type": "stream",
     "text": [
      "Best params:\n",
      "h = 1\n",
      "Best accuracy= 0.425\n"
     ]
    },
    {
     "data": {
      "text/plain": [
       "Text(0, 0.5, 'accuracy')"
      ]
     },
     "execution_count": 121,
     "metadata": {},
     "output_type": "execute_result"
    },
    {
     "data": {
      "image/png": "[encoded data removed]",
      "text/plain": [
       "<Figure size 640x480 with 1 Axes>"
      ]
     },
     "metadata": {},
     "output_type": "display_data"
    }
   ],
   "source": [
    "study = optuna.create_study(direction='maximize')\n",
    "study.optimize(my_h, n_trials=100)\n",
    "tr = study.best_trial\n",
    "print_best(tr)\n",
    "\n",
    "x_values = [trial.params['h'] for trial in study.get_trials()]\n",
    "y_values = [trial.value for trial in study.get_trials()]\n",
    "\n",
    "mp = dict()\n",
    "for i in range(len(x_values)):\n",
    "    key = x_values[i]\n",
    "    value = y_values[i]\n",
    "    if key not in mp:\n",
    "        mp[key] = value\n",
    "    else:\n",
    "        mp[key] = max(mp[key], value)\n",
    "\n",
    "sorted_dict = dict(sorted(mp.items()))\n",
    "x = list(sorted_dict.keys())\n",
    "y = list(sorted_dict.values())\n",
    "\n",
    "plt.plot(x, y, color='blue')\n",
    "plt.grid(True)\n",
    "plt.xlabel('h')\n",
    "plt.ylabel('accuracy')\n",
    "\n"
   ]
  },
  {
   "cell_type": "markdown",
   "id": "c2d41f39",
   "metadata": {},
   "source": [
    "## Соседи"
   ]
  },
  {
   "cell_type": "code",
   "execution_count": 122,
   "id": "7cbb310c",
   "metadata": {},
   "outputs": [
    {
     "name": "stdout",
     "output_type": "stream",
     "text": [
      "Best params:\n",
      "neighbors = 10\n",
      "Best accuracy= 0.325\n"
     ]
    },
    {
     "data": {
      "text/plain": [
       "Text(0, 0.5, 'accuracy')"
      ]
     },
     "execution_count": 122,
     "metadata": {},
     "output_type": "execute_result"
    },
    {
     "data": {
      "image/png": "[encoded data removed]",
      "text/plain": [
       "<Figure size 640x480 with 1 Axes>"
      ]
     },
     "metadata": {},
     "output_type": "display_data"
    }
   ],
   "source": [
    "study = optuna.create_study(direction='maximize')\n",
    "study.optimize(my_n, n_trials=100)\n",
    "tr = study.best_trial\n",
    "print_best(tr)\n",
    "\n",
    "x_values = [trial.params['neighbors'] for trial in study.get_trials()]\n",
    "y_values = [trial.value for trial in study.get_trials()]\n",
    "\n",
    "mp = dict()\n",
    "for i in range(len(x_values)):\n",
    "    key = x_values[i]\n",
    "    value = y_values[i]\n",
    "    if key not in mp:\n",
    "        mp[key] = value\n",
    "    else:\n",
    "        mp[key] = max(mp[key], value)\n",
    "\n",
    "sorted_dict = dict(sorted(mp.items()))\n",
    "x = list(sorted_dict.keys())\n",
    "y = list(sorted_dict.values())\n",
    "\n",
    "plt.plot(x, y, color='blue')\n",
    "plt.grid(True)\n",
    "plt.xlabel('neighbors')\n",
    "\n",
    "plt.ylabel('accuracy')"
   ]
  },
  {
   "cell_type": "code",
   "execution_count": 123,
   "id": "377e224a",
   "metadata": {},
   "outputs": [
    {
     "data": {
      "image/png": "[encoded data removed]",
      "text/plain": [
       "<Figure size 640x480 with 1 Axes>"
      ]
     },
     "metadata": {},
     "output_type": "display_data"
    }
   ],
   "source": [
    "mp = dict()\n",
    "for kernel in kernels:\n",
    "    res = predict(h=10, n=10, kernel=kernel, metric=evk)\n",
    "    acc = accuracy_score(res, exp)\n",
    "    mp[kernel.__name__] = acc\n",
    "\n",
    "x_values = list(mp.keys())    \n",
    "y_values = list(mp.values())\n",
    "\n",
    "plt.bar(x_values, y_values)\n",
    "plt.show()\n"
   ]
  },
  {
   "cell_type": "code",
   "execution_count": 124,
   "id": "29b433d9",
   "metadata": {},
   "outputs": [
    {
     "data": {
      "image/png": "[encoded data removed]",
      "text/plain": [
       "<Figure size 640x480 with 1 Axes>"
      ]
     },
     "metadata": {},
     "output_type": "display_data"
    }
   ],
   "source": [
    "mp = dict()\n",
    "for metr in metrics:\n",
    "   res = predict(h=10, n=10, kernel=uniform, metric=metr) \n",
    "   acc = accuracy_score(res, exp)\n",
    "   mp[metr.__name__] = acc\n",
    "\n",
    "x_values = list(mp.keys())\n",
    "y_values = list(mp.values())\n",
    "plt.bar(x_values, y_values)\n",
    "plt.show()"
   ]
  },
  {
   "cell_type": "code",
   "execution_count": 125,
   "id": "c5833335",
   "metadata": {},
   "outputs": [],
   "source": [
    "def lowess(train, frac, iters):\n",
    "    hlp = [el[0] for el in train]\n",
    "    y = np.array([el[1] for el in train])\n",
    "    \n",
    "    matrix = np.array(hlp)    \n",
    "    res = [0]*len(hlp)\n",
    "    \n",
    "    for _ in range(iters):\n",
    "        for i in range(len(hlp)):\n",
    "            #d = np.sqrt((x1 - x1[i])**2 + (x2 - x2[i])**2 + (x3 - x3[i])**2 + (x4 - x4[i])**2 + (x5 - x5[i])**2)\n",
    "            tmp = 0\n",
    "            for c in matrix.T:\n",
    "                tmp += (c - c[i])**2\n",
    "            d = np.sqrt(tmp)\n",
    "            weights = np.exp(-0.5 * (d / frac) ** 2)\n",
    "            weights /= sum(weights)\n",
    "\n",
    "            res[i] = sum(weights * y)\n",
    "\n",
    "    return res\n",
    "    \n",
    "    "
   ]
  },
  {
   "cell_type": "code",
   "execution_count": 126,
   "id": "13ebdb4a",
   "metadata": {},
   "outputs": [
    {
     "name": "stdout",
     "output_type": "stream",
     "text": [
      "Result= 0.425\n"
     ]
    }
   ],
   "source": [
    "knn = KNeighborsClassifier(n_neighbors=3, p=8, weights='distance')\n",
    "knn.fit(X_train, y_train)\n",
    "y_pred = knn.predict(X_test)\n",
    "res1 = accuracy_score(y_test, y_pred)\n",
    "print('Result=',res1)"
   ]
  },
  {
   "cell_type": "code",
   "execution_count": 127,
   "id": "0b9d50be",
   "metadata": {
    "scrolled": true
   },
   "outputs": [
    {
     "name": "stdout",
     "output_type": "stream",
     "text": [
      "Result= 0.475\n"
     ]
    }
   ],
   "source": [
    "w = lowess(train, 0.4, 10)\n",
    "y_pred = predict(h=1, n=9, kernel=triang, metric=manhattan, w=w)\n",
    "res = accuracy_score(y_test, y_pred)\n",
    "print('Result=', res)"
   ]
  }
 ],
 "metadata": {
  "kernelspec": {
   "display_name": "Python 3 (ipykernel)",
   "language": "python",
   "name": "python3"
  },
  "widgets": {
   "application/vnd.jupyter.widget-state+json": {
    "state": {},
    "version_major": 2,
    "version_minor": 0
   }
  }
 },
 "nbformat": 4,
 "nbformat_minor": 5
}
