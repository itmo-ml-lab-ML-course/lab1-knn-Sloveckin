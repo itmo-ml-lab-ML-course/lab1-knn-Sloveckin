{
 "cells": [
  {
   "cell_type": "code",
   "execution_count": 1,
   "id": "33f8bd02",
   "metadata": {},
   "outputs": [],
   "source": [
    "import pandas as pd\n",
    "from sklearn.preprocessing import MinMaxScaler\n",
    "from sklearn.neighbors import KNeighborsClassifier\n",
    "from sklearn.model_selection import train_test_split\n",
    "from sklearn.metrics import accuracy_score\n",
    "import numpy as np\n",
    "from collections import Counter\n",
    "import math\n",
    "import optuna\n",
    "import matplotlib.pyplot as plt"
   ]
  },
  {
   "cell_type": "code",
   "execution_count": 2,
   "id": "8474f8b3",
   "metadata": {},
   "outputs": [],
   "source": [
    "df = pd.read_csv(\"data.csv\")"
   ]
  },
  {
   "cell_type": "code",
   "execution_count": 3,
   "id": "55080c26",
   "metadata": {},
   "outputs": [
    {
     "name": "stdout",
     "output_type": "stream",
     "text": [
      "   Age Sex      BP Cholesterol  Na_to_K   Drug\n",
      "0   23   F    HIGH        HIGH   25.355  DrugY\n",
      "1   47   M     LOW        HIGH   13.093  drugC\n",
      "2   47   M     LOW        HIGH   10.114  drugC\n",
      "3   28   F  NORMAL        HIGH    7.798  drugX\n",
      "4   61   F     LOW        HIGH   18.043  DrugY\n"
     ]
    }
   ],
   "source": [
    "print(df.head())"
   ]
  },
  {
   "cell_type": "code",
   "execution_count": 4,
   "id": "1e4614c5",
   "metadata": {},
   "outputs": [],
   "source": [
    "df['Age'] = pd.to_numeric(df['Age'], errors='coerce')\n",
    "df['Sex'] = pd.factorize(df['Sex'])[0]\n",
    "df['BP'] = pd.factorize(df['BP'])[0]\n",
    "df['Cholesterol'] = pd.factorize(df['Cholesterol'])[0]\n",
    "df['Na_to_K'] = pd.factorize(df['Na_to_K'])[0]\n",
    "df['Drug'] = pd.factorize(df['Drug'])[0]"
   ]
  },
  {
   "cell_type": "code",
   "execution_count": 5,
   "id": "a63106b5",
   "metadata": {},
   "outputs": [],
   "source": [
    "scaler = MinMaxScaler()\n",
    "columns_to_normalize = df.columns[df.columns != 'Drug']\n",
    "df[columns_to_normalize] = scaler.fit_transform(df[columns_to_normalize])"
   ]
  },
  {
   "cell_type": "code",
   "execution_count": 6,
   "id": "0c2edc14",
   "metadata": {},
   "outputs": [
    {
     "data": {
      "text/html": [
       "<div>\n",
       "<style scoped>\n",
       "    .dataframe tbody tr th:only-of-type {\n",
       "        vertical-align: middle;\n",
       "    }\n",
       "\n",
       "    .dataframe tbody tr th {\n",
       "        vertical-align: top;\n",
       "    }\n",
       "\n",
       "    .dataframe thead th {\n",
       "        text-align: right;\n",
       "    }\n",
       "</style>\n",
       "<table border=\"1\" class=\"dataframe\">\n",
       "  <thead>\n",
       "    <tr style=\"text-align: right;\">\n",
       "      <th></th>\n",
       "      <th>Age</th>\n",
       "      <th>Sex</th>\n",
       "      <th>BP</th>\n",
       "      <th>Cholesterol</th>\n",
       "      <th>Na_to_K</th>\n",
       "      <th>Drug</th>\n",
       "    </tr>\n",
       "  </thead>\n",
       "  <tbody>\n",
       "    <tr>\n",
       "      <th>0</th>\n",
       "      <td>0.135593</td>\n",
       "      <td>0.0</td>\n",
       "      <td>0.0</td>\n",
       "      <td>0.0</td>\n",
       "      <td>0.000000</td>\n",
       "      <td>0</td>\n",
       "    </tr>\n",
       "    <tr>\n",
       "      <th>1</th>\n",
       "      <td>0.542373</td>\n",
       "      <td>1.0</td>\n",
       "      <td>0.5</td>\n",
       "      <td>0.0</td>\n",
       "      <td>0.005076</td>\n",
       "      <td>1</td>\n",
       "    </tr>\n",
       "    <tr>\n",
       "      <th>2</th>\n",
       "      <td>0.542373</td>\n",
       "      <td>1.0</td>\n",
       "      <td>0.5</td>\n",
       "      <td>0.0</td>\n",
       "      <td>0.010152</td>\n",
       "      <td>1</td>\n",
       "    </tr>\n",
       "    <tr>\n",
       "      <th>3</th>\n",
       "      <td>0.220339</td>\n",
       "      <td>0.0</td>\n",
       "      <td>1.0</td>\n",
       "      <td>0.0</td>\n",
       "      <td>0.015228</td>\n",
       "      <td>2</td>\n",
       "    </tr>\n",
       "    <tr>\n",
       "      <th>4</th>\n",
       "      <td>0.779661</td>\n",
       "      <td>0.0</td>\n",
       "      <td>0.5</td>\n",
       "      <td>0.0</td>\n",
       "      <td>0.020305</td>\n",
       "      <td>0</td>\n",
       "    </tr>\n",
       "  </tbody>\n",
       "</table>\n",
       "</div>"
      ],
      "text/plain": [
       "        Age  Sex   BP  Cholesterol   Na_to_K  Drug\n",
       "0  0.135593  0.0  0.0          0.0  0.000000     0\n",
       "1  0.542373  1.0  0.5          0.0  0.005076     1\n",
       "2  0.542373  1.0  0.5          0.0  0.010152     1\n",
       "3  0.220339  0.0  1.0          0.0  0.015228     2\n",
       "4  0.779661  0.0  0.5          0.0  0.020305     0"
      ]
     },
     "execution_count": 6,
     "metadata": {},
     "output_type": "execute_result"
    }
   ],
   "source": [
    "df.head()"
   ]
  },
  {
   "cell_type": "code",
   "execution_count": 7,
   "id": "73c8f00c",
   "metadata": {},
   "outputs": [],
   "source": [
    "X = df[['Age', 'Sex', 'BP', 'Cholesterol', 'Na_to_K']]\n",
    "y = df['Drug']"
   ]
  },
  {
   "cell_type": "code",
   "execution_count": 8,
   "id": "731eac2b",
   "metadata": {},
   "outputs": [],
   "source": [
    "X_train, X_test, y_train, y_test = train_test_split(X, y, train_size=0.4)"
   ]
  },
  {
   "cell_type": "code",
   "execution_count": 9,
   "id": "e8e0d36e",
   "metadata": {},
   "outputs": [
    {
     "name": "stdout",
     "output_type": "stream",
     "text": [
      "          Age  Sex   BP  Cholesterol   Na_to_K\n",
      "36   0.288136  1.0  0.0          1.0  0.182741\n",
      "140  0.576271  1.0  0.0          1.0  0.710660\n",
      "18   0.135593  1.0  0.5          0.0  0.091371\n",
      "118  0.288136  0.0  0.0          1.0  0.598985\n",
      "82   0.288136  0.0  0.5          0.0  0.416244\n",
      "81   0.830508  1.0  1.0          0.0  0.411168\n",
      "59   0.322034  1.0  0.0          0.0  0.299492\n",
      "170  0.220339  0.0  1.0          0.0  0.857868\n",
      "180  0.118644  0.0  0.0          1.0  0.908629\n",
      "116  0.881356  1.0  1.0          1.0  0.588832\n"
     ]
    }
   ],
   "source": [
    "print(X_train[:10])"
   ]
  },
  {
   "cell_type": "markdown",
   "id": "bc153652",
   "metadata": {},
   "source": [
    "## Sklearn"
   ]
  },
  {
   "cell_type": "code",
   "execution_count": 10,
   "id": "0e058857",
   "metadata": {},
   "outputs": [],
   "source": [
    "#optuna.logging.disable_default_handler()"
   ]
  },
  {
   "cell_type": "code",
   "execution_count": 11,
   "id": "0c89b35c",
   "metadata": {},
   "outputs": [],
   "source": [
    "def neighbors_and_p_params(trial):\n",
    "    n = trial.suggest_int('n_neighbors', 3, 25)\n",
    "    p = trial.suggest_int('p', 1, 10)\n",
    "    knn = KNeighborsClassifier(n_neighbors=n, p=p)\n",
    "    knn.fit(X_train, y_train)\n",
    "    y_pred = knn.predict(X_test)\n",
    "    return accuracy_score(y_test, y_pred)\n",
    "\n",
    "def neighbors_param(trial):\n",
    "    n = trial.suggest_int('n_neighbors', low=1, high=10, step=1)\n",
    "    knn = KNeighborsClassifier(n_neighbors=n)\n",
    "    knn.fit(X_train, y_train)\n",
    "    y_pred = knn.predict(X_test)\n",
    "    return accuracy_score(y_test, y_pred)\n",
    "\n",
    "def p_param(trial):\n",
    "    p = trial.suggest_int('p', 1, 25)\n",
    "    knn = KNeighborsClassifier(p=p)\n",
    "    knn.fit(X_train, y_train)\n",
    "    y_pred = knn.predict(X_test)\n",
    "    return accuracy_score(y_test, y_pred)\n",
    "\n",
    "def print_best(tr):\n",
    "    print(\"Best params:\")\n",
    "    for key, value in tr.params.items():\n",
    "        print(key, '=', value)\n",
    "    print('Best accuracy=', tr.value)\n"
   ]
  },
  {
   "cell_type": "markdown",
   "id": "fd1b7c7c",
   "metadata": {},
   "source": [
    "## Кол-во соседей и расстояние"
   ]
  },
  {
   "cell_type": "code",
   "execution_count": 12,
   "id": "1942a4e8",
   "metadata": {
    "scrolled": true
   },
   "outputs": [
    {
     "name": "stderr",
     "output_type": "stream",
     "text": [
      "[I 2024-04-04 15:17:36,681] A new study created in memory with name: no-name-4d63e59a-2d7d-43b6-a35e-cbfdfa4c78f1\n",
      "[I 2024-04-04 15:17:36,699] Trial 0 finished with value: 0.475 and parameters: {'n_neighbors': 5, 'p': 3}. Best is trial 0 with value: 0.475.\n",
      "[I 2024-04-04 15:17:36,711] Trial 1 finished with value: 0.44166666666666665 and parameters: {'n_neighbors': 16, 'p': 6}. Best is trial 0 with value: 0.475.\n",
      "[I 2024-04-04 15:17:36,721] Trial 2 finished with value: 0.43333333333333335 and parameters: {'n_neighbors': 6, 'p': 6}. Best is trial 0 with value: 0.475.\n",
      "[I 2024-04-04 15:17:36,733] Trial 3 finished with value: 0.4583333333333333 and parameters: {'n_neighbors': 25, 'p': 4}. Best is trial 0 with value: 0.475.\n",
      "[I 2024-04-04 15:17:36,745] Trial 4 finished with value: 0.4666666666666667 and parameters: {'n_neighbors': 15, 'p': 10}. Best is trial 0 with value: 0.475.\n",
      "[I 2024-04-04 15:17:36,756] Trial 5 finished with value: 0.39166666666666666 and parameters: {'n_neighbors': 13, 'p': 1}. Best is trial 0 with value: 0.475.\n",
      "[I 2024-04-04 15:17:36,765] Trial 6 finished with value: 0.43333333333333335 and parameters: {'n_neighbors': 22, 'p': 1}. Best is trial 0 with value: 0.475.\n",
      "[I 2024-04-04 15:17:36,776] Trial 7 finished with value: 0.4 and parameters: {'n_neighbors': 10, 'p': 10}. Best is trial 0 with value: 0.475.\n",
      "[I 2024-04-04 15:17:36,787] Trial 8 finished with value: 0.4083333333333333 and parameters: {'n_neighbors': 10, 'p': 1}. Best is trial 0 with value: 0.475.\n",
      "[I 2024-04-04 15:17:36,797] Trial 9 finished with value: 0.44166666666666665 and parameters: {'n_neighbors': 16, 'p': 9}. Best is trial 0 with value: 0.475.\n",
      "[I 2024-04-04 15:17:36,815] Trial 10 finished with value: 0.425 and parameters: {'n_neighbors': 3, 'p': 4}. Best is trial 0 with value: 0.475.\n",
      "[I 2024-04-04 15:17:36,837] Trial 11 finished with value: 0.4666666666666667 and parameters: {'n_neighbors': 19, 'p': 8}. Best is trial 0 with value: 0.475.\n",
      "[I 2024-04-04 15:17:36,862] Trial 12 finished with value: 0.43333333333333335 and parameters: {'n_neighbors': 9, 'p': 3}. Best is trial 0 with value: 0.475.\n",
      "[I 2024-04-04 15:17:36,887] Trial 13 finished with value: 0.45 and parameters: {'n_neighbors': 13, 'p': 7}. Best is trial 0 with value: 0.475.\n",
      "[I 2024-04-04 15:17:36,907] Trial 14 finished with value: 0.39166666666666666 and parameters: {'n_neighbors': 6, 'p': 3}. Best is trial 0 with value: 0.475.\n",
      "[I 2024-04-04 15:17:36,927] Trial 15 finished with value: 0.4583333333333333 and parameters: {'n_neighbors': 19, 'p': 10}. Best is trial 0 with value: 0.475.\n",
      "[I 2024-04-04 15:17:36,945] Trial 16 finished with value: 0.425 and parameters: {'n_neighbors': 4, 'p': 5}. Best is trial 0 with value: 0.475.\n",
      "[I 2024-04-04 15:17:36,965] Trial 17 finished with value: 0.475 and parameters: {'n_neighbors': 15, 'p': 8}. Best is trial 0 with value: 0.475.\n",
      "[I 2024-04-04 15:17:36,985] Trial 18 finished with value: 0.4666666666666667 and parameters: {'n_neighbors': 18, 'p': 8}. Best is trial 0 with value: 0.475.\n",
      "[I 2024-04-04 15:17:37,004] Trial 19 finished with value: 0.4 and parameters: {'n_neighbors': 8, 'p': 3}. Best is trial 0 with value: 0.475.\n",
      "[I 2024-04-04 15:17:37,023] Trial 20 finished with value: 0.44166666666666665 and parameters: {'n_neighbors': 12, 'p': 7}. Best is trial 0 with value: 0.475.\n",
      "[I 2024-04-04 15:17:37,041] Trial 21 finished with value: 0.4666666666666667 and parameters: {'n_neighbors': 15, 'p': 9}. Best is trial 0 with value: 0.475.\n",
      "[I 2024-04-04 15:17:37,061] Trial 22 finished with value: 0.44166666666666665 and parameters: {'n_neighbors': 17, 'p': 9}. Best is trial 0 with value: 0.475.\n",
      "[I 2024-04-04 15:17:37,080] Trial 23 finished with value: 0.4583333333333333 and parameters: {'n_neighbors': 21, 'p': 10}. Best is trial 0 with value: 0.475.\n",
      "[I 2024-04-04 15:17:37,100] Trial 24 finished with value: 0.44166666666666665 and parameters: {'n_neighbors': 12, 'p': 7}. Best is trial 0 with value: 0.475.\n",
      "[I 2024-04-04 15:17:37,121] Trial 25 finished with value: 0.44166666666666665 and parameters: {'n_neighbors': 14, 'p': 8}. Best is trial 0 with value: 0.475.\n",
      "[I 2024-04-04 15:17:37,139] Trial 26 finished with value: 0.4166666666666667 and parameters: {'n_neighbors': 11, 'p': 2}. Best is trial 0 with value: 0.475.\n",
      "[I 2024-04-04 15:17:37,160] Trial 27 finished with value: 0.4583333333333333 and parameters: {'n_neighbors': 21, 'p': 5}. Best is trial 0 with value: 0.475.\n",
      "[I 2024-04-04 15:17:37,180] Trial 28 finished with value: 0.4166666666666667 and parameters: {'n_neighbors': 8, 'p': 9}. Best is trial 0 with value: 0.475.\n",
      "[I 2024-04-04 15:17:37,199] Trial 29 finished with value: 0.475 and parameters: {'n_neighbors': 15, 'p': 6}. Best is trial 0 with value: 0.475.\n",
      "[I 2024-04-04 15:17:37,218] Trial 30 finished with value: 0.44166666666666665 and parameters: {'n_neighbors': 17, 'p': 6}. Best is trial 0 with value: 0.475.\n",
      "[I 2024-04-04 15:17:37,236] Trial 31 finished with value: 0.475 and parameters: {'n_neighbors': 15, 'p': 6}. Best is trial 0 with value: 0.475.\n",
      "[I 2024-04-04 15:17:37,255] Trial 32 finished with value: 0.475 and parameters: {'n_neighbors': 15, 'p': 6}. Best is trial 0 with value: 0.475.\n",
      "[I 2024-04-04 15:17:37,274] Trial 33 finished with value: 0.43333333333333335 and parameters: {'n_neighbors': 14, 'p': 5}. Best is trial 0 with value: 0.475.\n",
      "[I 2024-04-04 15:17:37,292] Trial 34 finished with value: 0.4166666666666667 and parameters: {'n_neighbors': 6, 'p': 4}. Best is trial 0 with value: 0.475.\n",
      "[I 2024-04-04 15:17:37,311] Trial 35 finished with value: 0.44166666666666665 and parameters: {'n_neighbors': 17, 'p': 6}. Best is trial 0 with value: 0.475.\n",
      "[I 2024-04-04 15:17:37,331] Trial 36 finished with value: 0.4583333333333333 and parameters: {'n_neighbors': 25, 'p': 7}. Best is trial 0 with value: 0.475.\n",
      "[I 2024-04-04 15:17:37,349] Trial 37 finished with value: 0.44166666666666665 and parameters: {'n_neighbors': 12, 'p': 5}. Best is trial 0 with value: 0.475.\n",
      "[I 2024-04-04 15:17:37,368] Trial 38 finished with value: 0.43333333333333335 and parameters: {'n_neighbors': 16, 'p': 2}. Best is trial 0 with value: 0.475.\n",
      "[I 2024-04-04 15:17:37,388] Trial 39 finished with value: 0.4666666666666667 and parameters: {'n_neighbors': 19, 'p': 6}. Best is trial 0 with value: 0.475.\n",
      "[I 2024-04-04 15:17:37,407] Trial 40 finished with value: 0.45 and parameters: {'n_neighbors': 13, 'p': 4}. Best is trial 0 with value: 0.475.\n",
      "[I 2024-04-04 15:17:37,427] Trial 41 finished with value: 0.475 and parameters: {'n_neighbors': 15, 'p': 6}. Best is trial 0 with value: 0.475.\n",
      "[I 2024-04-04 15:17:37,447] Trial 42 finished with value: 0.475 and parameters: {'n_neighbors': 15, 'p': 7}. Best is trial 0 with value: 0.475.\n",
      "[I 2024-04-04 15:17:37,468] Trial 43 finished with value: 0.44166666666666665 and parameters: {'n_neighbors': 16, 'p': 8}. Best is trial 0 with value: 0.475.\n",
      "[I 2024-04-04 15:17:37,504] Trial 44 finished with value: 0.43333333333333335 and parameters: {'n_neighbors': 14, 'p': 5}. Best is trial 0 with value: 0.475.\n",
      "[I 2024-04-04 15:17:37,523] Trial 45 finished with value: 0.4166666666666667 and parameters: {'n_neighbors': 11, 'p': 6}. Best is trial 0 with value: 0.475.\n",
      "[I 2024-04-04 15:17:37,542] Trial 46 finished with value: 0.4666666666666667 and parameters: {'n_neighbors': 18, 'p': 4}. Best is trial 0 with value: 0.475.\n",
      "[I 2024-04-04 15:17:37,562] Trial 47 finished with value: 0.44166666666666665 and parameters: {'n_neighbors': 14, 'p': 7}. Best is trial 0 with value: 0.475.\n",
      "[I 2024-04-04 15:17:37,580] Trial 48 finished with value: 0.4 and parameters: {'n_neighbors': 10, 'p': 2}. Best is trial 0 with value: 0.475.\n",
      "[I 2024-04-04 15:17:37,600] Trial 49 finished with value: 0.475 and parameters: {'n_neighbors': 20, 'p': 8}. Best is trial 0 with value: 0.475.\n",
      "[I 2024-04-04 15:17:37,619] Trial 50 finished with value: 0.425 and parameters: {'n_neighbors': 4, 'p': 5}. Best is trial 0 with value: 0.475.\n",
      "[I 2024-04-04 15:17:37,638] Trial 51 finished with value: 0.475 and parameters: {'n_neighbors': 15, 'p': 6}. Best is trial 0 with value: 0.475.\n",
      "[I 2024-04-04 15:17:37,661] Trial 52 finished with value: 0.4583333333333333 and parameters: {'n_neighbors': 13, 'p': 6}. Best is trial 0 with value: 0.475.\n",
      "[I 2024-04-04 15:17:37,682] Trial 53 finished with value: 0.4666666666666667 and parameters: {'n_neighbors': 18, 'p': 7}. Best is trial 0 with value: 0.475.\n",
      "[I 2024-04-04 15:17:37,704] Trial 54 finished with value: 0.425 and parameters: {'n_neighbors': 23, 'p': 6}. Best is trial 0 with value: 0.475.\n",
      "[I 2024-04-04 15:17:37,732] Trial 55 finished with value: 0.45 and parameters: {'n_neighbors': 15, 'p': 4}. Best is trial 0 with value: 0.475.\n",
      "[I 2024-04-04 15:17:37,757] Trial 56 finished with value: 0.43333333333333335 and parameters: {'n_neighbors': 16, 'p': 5}. Best is trial 0 with value: 0.475.\n",
      "[I 2024-04-04 15:17:37,779] Trial 57 finished with value: 0.4583333333333333 and parameters: {'n_neighbors': 13, 'p': 8}. Best is trial 0 with value: 0.475.\n",
      "[I 2024-04-04 15:17:37,800] Trial 58 finished with value: 0.44166666666666665 and parameters: {'n_neighbors': 16, 'p': 3}. Best is trial 0 with value: 0.475.\n",
      "[I 2024-04-04 15:17:37,822] Trial 59 finished with value: 0.44166666666666665 and parameters: {'n_neighbors': 17, 'p': 6}. Best is trial 0 with value: 0.475.\n",
      "[I 2024-04-04 15:17:37,843] Trial 60 finished with value: 0.4166666666666667 and parameters: {'n_neighbors': 11, 'p': 7}. Best is trial 0 with value: 0.475.\n",
      "[I 2024-04-04 15:17:37,864] Trial 61 finished with value: 0.475 and parameters: {'n_neighbors': 15, 'p': 7}. Best is trial 0 with value: 0.475.\n",
      "[I 2024-04-04 15:17:37,884] Trial 62 finished with value: 0.475 and parameters: {'n_neighbors': 15, 'p': 7}. Best is trial 0 with value: 0.475.\n",
      "[I 2024-04-04 15:17:37,906] Trial 63 finished with value: 0.44166666666666665 and parameters: {'n_neighbors': 14, 'p': 7}. Best is trial 0 with value: 0.475.\n",
      "[I 2024-04-04 15:17:37,926] Trial 64 finished with value: 0.4583333333333333 and parameters: {'n_neighbors': 13, 'p': 6}. Best is trial 0 with value: 0.475.\n",
      "[I 2024-04-04 15:17:37,946] Trial 65 finished with value: 0.44166666666666665 and parameters: {'n_neighbors': 17, 'p': 8}. Best is trial 0 with value: 0.475.\n",
      "[I 2024-04-04 15:17:37,967] Trial 66 finished with value: 0.44166666666666665 and parameters: {'n_neighbors': 12, 'p': 9}. Best is trial 0 with value: 0.475.\n",
      "[I 2024-04-04 15:17:37,986] Trial 67 finished with value: 0.44166666666666665 and parameters: {'n_neighbors': 16, 'p': 1}. Best is trial 0 with value: 0.475.\n",
      "[I 2024-04-04 15:17:38,005] Trial 68 finished with value: 0.43333333333333335 and parameters: {'n_neighbors': 14, 'p': 6}. Best is trial 0 with value: 0.475.\n",
      "[I 2024-04-04 15:17:38,026] Trial 69 finished with value: 0.4666666666666667 and parameters: {'n_neighbors': 18, 'p': 5}. Best is trial 0 with value: 0.475.\n",
      "[I 2024-04-04 15:17:38,046] Trial 70 finished with value: 0.475 and parameters: {'n_neighbors': 15, 'p': 7}. Best is trial 0 with value: 0.475.\n",
      "[I 2024-04-04 15:17:38,068] Trial 71 finished with value: 0.475 and parameters: {'n_neighbors': 20, 'p': 8}. Best is trial 0 with value: 0.475.\n",
      "[I 2024-04-04 15:17:38,088] Trial 72 finished with value: 0.45 and parameters: {'n_neighbors': 24, 'p': 8}. Best is trial 0 with value: 0.475.\n",
      "[I 2024-04-04 15:17:38,109] Trial 73 finished with value: 0.43333333333333335 and parameters: {'n_neighbors': 7, 'p': 9}. Best is trial 0 with value: 0.475.\n",
      "[I 2024-04-04 15:17:38,130] Trial 74 finished with value: 0.4583333333333333 and parameters: {'n_neighbors': 21, 'p': 8}. Best is trial 0 with value: 0.475.\n",
      "[I 2024-04-04 15:17:38,150] Trial 75 finished with value: 0.4666666666666667 and parameters: {'n_neighbors': 19, 'p': 7}. Best is trial 0 with value: 0.475.\n",
      "[I 2024-04-04 15:17:38,171] Trial 76 finished with value: 0.43333333333333335 and parameters: {'n_neighbors': 22, 'p': 7}. Best is trial 0 with value: 0.475.\n",
      "[I 2024-04-04 15:17:38,193] Trial 77 finished with value: 0.48333333333333334 and parameters: {'n_neighbors': 20, 'p': 6}. Best is trial 77 with value: 0.48333333333333334.\n",
      "[I 2024-04-04 15:17:38,215] Trial 78 finished with value: 0.45 and parameters: {'n_neighbors': 17, 'p': 5}. Best is trial 77 with value: 0.48333333333333334.\n",
      "[I 2024-04-04 15:17:38,239] Trial 79 finished with value: 0.4 and parameters: {'n_neighbors': 9, 'p': 6}. Best is trial 77 with value: 0.48333333333333334.\n",
      "[I 2024-04-04 15:17:38,264] Trial 80 finished with value: 0.43333333333333335 and parameters: {'n_neighbors': 3, 'p': 6}. Best is trial 77 with value: 0.48333333333333334.\n",
      "[I 2024-04-04 15:17:38,287] Trial 81 finished with value: 0.48333333333333334 and parameters: {'n_neighbors': 20, 'p': 6}. Best is trial 77 with value: 0.48333333333333334.\n",
      "[I 2024-04-04 15:17:38,308] Trial 82 finished with value: 0.48333333333333334 and parameters: {'n_neighbors': 20, 'p': 6}. Best is trial 77 with value: 0.48333333333333334.\n",
      "[I 2024-04-04 15:17:38,329] Trial 83 finished with value: 0.48333333333333334 and parameters: {'n_neighbors': 20, 'p': 6}. Best is trial 77 with value: 0.48333333333333334.\n",
      "[I 2024-04-04 15:17:38,350] Trial 84 finished with value: 0.48333333333333334 and parameters: {'n_neighbors': 20, 'p': 5}. Best is trial 77 with value: 0.48333333333333334.\n",
      "[I 2024-04-04 15:17:38,371] Trial 85 finished with value: 0.48333333333333334 and parameters: {'n_neighbors': 20, 'p': 5}. Best is trial 77 with value: 0.48333333333333334.\n",
      "[I 2024-04-04 15:17:38,393] Trial 86 finished with value: 0.48333333333333334 and parameters: {'n_neighbors': 20, 'p': 3}. Best is trial 77 with value: 0.48333333333333334.\n",
      "[I 2024-04-04 15:17:38,413] Trial 87 finished with value: 0.48333333333333334 and parameters: {'n_neighbors': 20, 'p': 3}. Best is trial 77 with value: 0.48333333333333334.\n",
      "[I 2024-04-04 15:17:38,434] Trial 88 finished with value: 0.48333333333333334 and parameters: {'n_neighbors': 20, 'p': 3}. Best is trial 77 with value: 0.48333333333333334.\n",
      "[I 2024-04-04 15:17:38,455] Trial 89 finished with value: 0.49166666666666664 and parameters: {'n_neighbors': 20, 'p': 2}. Best is trial 89 with value: 0.49166666666666664.\n",
      "[I 2024-04-04 15:17:38,475] Trial 90 finished with value: 0.44166666666666665 and parameters: {'n_neighbors': 22, 'p': 2}. Best is trial 89 with value: 0.49166666666666664.\n",
      "[I 2024-04-04 15:17:38,495] Trial 91 finished with value: 0.48333333333333334 and parameters: {'n_neighbors': 20, 'p': 3}. Best is trial 89 with value: 0.49166666666666664.\n",
      "[I 2024-04-04 15:17:38,516] Trial 92 finished with value: 0.4583333333333333 and parameters: {'n_neighbors': 21, 'p': 2}. Best is trial 89 with value: 0.49166666666666664.\n",
      "[I 2024-04-04 15:17:38,537] Trial 93 finished with value: 0.45 and parameters: {'n_neighbors': 19, 'p': 3}. Best is trial 89 with value: 0.49166666666666664.\n",
      "[I 2024-04-04 15:17:38,558] Trial 94 finished with value: 0.48333333333333334 and parameters: {'n_neighbors': 20, 'p': 4}. Best is trial 89 with value: 0.49166666666666664.\n",
      "[I 2024-04-04 15:17:38,578] Trial 95 finished with value: 0.425 and parameters: {'n_neighbors': 22, 'p': 4}. Best is trial 89 with value: 0.49166666666666664.\n",
      "[I 2024-04-04 15:17:38,600] Trial 96 finished with value: 0.4583333333333333 and parameters: {'n_neighbors': 21, 'p': 3}. Best is trial 89 with value: 0.49166666666666664.\n",
      "[I 2024-04-04 15:17:38,620] Trial 97 finished with value: 0.475 and parameters: {'n_neighbors': 19, 'p': 1}. Best is trial 89 with value: 0.49166666666666664.\n",
      "[I 2024-04-04 15:17:38,640] Trial 98 finished with value: 0.49166666666666664 and parameters: {'n_neighbors': 20, 'p': 2}. Best is trial 89 with value: 0.49166666666666664.\n",
      "[I 2024-04-04 15:17:38,661] Trial 99 finished with value: 0.44166666666666665 and parameters: {'n_neighbors': 23, 'p': 2}. Best is trial 89 with value: 0.49166666666666664.\n"
     ]
    },
    {
     "name": "stdout",
     "output_type": "stream",
     "text": [
      "Best params:\n",
      "n_neighbors = 20\n",
      "p = 2\n",
      "Best accuracy= 0.49166666666666664\n"
     ]
    }
   ],
   "source": [
    "study = optuna.create_study(direction='maximize')\n",
    "\n",
    "study.optimize(neighbors_and_p_params, n_trials=100)\n",
    "\n",
    "tr = study.best_trial\n",
    "print_best(tr)\n"
   ]
  },
  {
   "cell_type": "markdown",
   "id": "4de3c5a6",
   "metadata": {},
   "source": [
    "## Количество соседей"
   ]
  },
  {
   "cell_type": "code",
   "execution_count": 13,
   "id": "076f234f",
   "metadata": {},
   "outputs": [
    {
     "name": "stderr",
     "output_type": "stream",
     "text": [
      "[I 2024-04-04 15:17:38,673] A new study created in memory with name: no-name-672d073c-1158-455d-aaf4-cbd0da175614\n",
      "[I 2024-04-04 15:17:38,687] Trial 0 finished with value: 0.4083333333333333 and parameters: {'n_neighbors': 3}. Best is trial 0 with value: 0.4083333333333333.\n",
      "[I 2024-04-04 15:17:38,696] Trial 1 finished with value: 0.45 and parameters: {'n_neighbors': 1}. Best is trial 1 with value: 0.45.\n",
      "[I 2024-04-04 15:17:38,707] Trial 2 finished with value: 0.43333333333333335 and parameters: {'n_neighbors': 8}. Best is trial 1 with value: 0.45.\n",
      "[I 2024-04-04 15:17:38,717] Trial 3 finished with value: 0.4083333333333333 and parameters: {'n_neighbors': 3}. Best is trial 1 with value: 0.45.\n",
      "[I 2024-04-04 15:17:38,727] Trial 4 finished with value: 0.43333333333333335 and parameters: {'n_neighbors': 8}. Best is trial 1 with value: 0.45.\n",
      "[I 2024-04-04 15:17:38,736] Trial 5 finished with value: 0.43333333333333335 and parameters: {'n_neighbors': 6}. Best is trial 1 with value: 0.45.\n",
      "[I 2024-04-04 15:17:38,745] Trial 6 finished with value: 0.45 and parameters: {'n_neighbors': 2}. Best is trial 1 with value: 0.45.\n",
      "[I 2024-04-04 15:17:38,754] Trial 7 finished with value: 0.43333333333333335 and parameters: {'n_neighbors': 4}. Best is trial 1 with value: 0.45.\n",
      "[I 2024-04-04 15:17:38,765] Trial 8 finished with value: 0.43333333333333335 and parameters: {'n_neighbors': 6}. Best is trial 1 with value: 0.45.\n",
      "[I 2024-04-04 15:17:38,774] Trial 9 finished with value: 0.4 and parameters: {'n_neighbors': 10}. Best is trial 1 with value: 0.45.\n",
      "[I 2024-04-04 15:17:38,789] Trial 10 finished with value: 0.45 and parameters: {'n_neighbors': 1}. Best is trial 1 with value: 0.45.\n",
      "[I 2024-04-04 15:17:38,804] Trial 11 finished with value: 0.45 and parameters: {'n_neighbors': 1}. Best is trial 1 with value: 0.45.\n",
      "[I 2024-04-04 15:17:38,819] Trial 12 finished with value: 0.45 and parameters: {'n_neighbors': 1}. Best is trial 1 with value: 0.45.\n",
      "[I 2024-04-04 15:17:38,834] Trial 13 finished with value: 0.43333333333333335 and parameters: {'n_neighbors': 4}. Best is trial 1 with value: 0.45.\n",
      "[I 2024-04-04 15:17:38,847] Trial 14 finished with value: 0.45 and parameters: {'n_neighbors': 2}. Best is trial 1 with value: 0.45.\n",
      "[I 2024-04-04 15:17:38,861] Trial 15 finished with value: 0.4083333333333333 and parameters: {'n_neighbors': 3}. Best is trial 1 with value: 0.45.\n",
      "[I 2024-04-04 15:17:38,876] Trial 16 finished with value: 0.45 and parameters: {'n_neighbors': 2}. Best is trial 1 with value: 0.45.\n",
      "[I 2024-04-04 15:17:38,890] Trial 17 finished with value: 0.4666666666666667 and parameters: {'n_neighbors': 5}. Best is trial 17 with value: 0.4666666666666667.\n",
      "[I 2024-04-04 15:17:38,904] Trial 18 finished with value: 0.4666666666666667 and parameters: {'n_neighbors': 5}. Best is trial 17 with value: 0.4666666666666667.\n",
      "[I 2024-04-04 15:17:38,921] Trial 19 finished with value: 0.4666666666666667 and parameters: {'n_neighbors': 5}. Best is trial 17 with value: 0.4666666666666667.\n",
      "[I 2024-04-04 15:17:38,937] Trial 20 finished with value: 0.4583333333333333 and parameters: {'n_neighbors': 7}. Best is trial 17 with value: 0.4666666666666667.\n",
      "[I 2024-04-04 15:17:38,951] Trial 21 finished with value: 0.4666666666666667 and parameters: {'n_neighbors': 5}. Best is trial 17 with value: 0.4666666666666667.\n",
      "[I 2024-04-04 15:17:38,966] Trial 22 finished with value: 0.4666666666666667 and parameters: {'n_neighbors': 5}. Best is trial 17 with value: 0.4666666666666667.\n",
      "[I 2024-04-04 15:17:38,980] Trial 23 finished with value: 0.4583333333333333 and parameters: {'n_neighbors': 7}. Best is trial 17 with value: 0.4666666666666667.\n",
      "[I 2024-04-04 15:17:38,995] Trial 24 finished with value: 0.43333333333333335 and parameters: {'n_neighbors': 4}. Best is trial 17 with value: 0.4666666666666667.\n",
      "[I 2024-04-04 15:17:39,014] Trial 25 finished with value: 0.4666666666666667 and parameters: {'n_neighbors': 5}. Best is trial 17 with value: 0.4666666666666667.\n",
      "[I 2024-04-04 15:17:39,032] Trial 26 finished with value: 0.43333333333333335 and parameters: {'n_neighbors': 6}. Best is trial 17 with value: 0.4666666666666667.\n",
      "[I 2024-04-04 15:17:39,048] Trial 27 finished with value: 0.4583333333333333 and parameters: {'n_neighbors': 7}. Best is trial 17 with value: 0.4666666666666667.\n",
      "[I 2024-04-04 15:17:39,061] Trial 28 finished with value: 0.43333333333333335 and parameters: {'n_neighbors': 4}. Best is trial 17 with value: 0.4666666666666667.\n",
      "[I 2024-04-04 15:17:39,076] Trial 29 finished with value: 0.4666666666666667 and parameters: {'n_neighbors': 5}. Best is trial 17 with value: 0.4666666666666667.\n",
      "[I 2024-04-04 15:17:39,089] Trial 30 finished with value: 0.43333333333333335 and parameters: {'n_neighbors': 8}. Best is trial 17 with value: 0.4666666666666667.\n",
      "[I 2024-04-04 15:17:39,104] Trial 31 finished with value: 0.4666666666666667 and parameters: {'n_neighbors': 5}. Best is trial 17 with value: 0.4666666666666667.\n",
      "[I 2024-04-04 15:17:39,117] Trial 32 finished with value: 0.43333333333333335 and parameters: {'n_neighbors': 6}. Best is trial 17 with value: 0.4666666666666667.\n",
      "[I 2024-04-04 15:17:39,131] Trial 33 finished with value: 0.4083333333333333 and parameters: {'n_neighbors': 3}. Best is trial 17 with value: 0.4666666666666667.\n",
      "[I 2024-04-04 15:17:39,145] Trial 34 finished with value: 0.4666666666666667 and parameters: {'n_neighbors': 5}. Best is trial 17 with value: 0.4666666666666667.\n",
      "[I 2024-04-04 15:17:39,158] Trial 35 finished with value: 0.43333333333333335 and parameters: {'n_neighbors': 4}. Best is trial 17 with value: 0.4666666666666667.\n",
      "[I 2024-04-04 15:17:39,173] Trial 36 finished with value: 0.43333333333333335 and parameters: {'n_neighbors': 6}. Best is trial 17 with value: 0.4666666666666667.\n",
      "[I 2024-04-04 15:17:39,187] Trial 37 finished with value: 0.4583333333333333 and parameters: {'n_neighbors': 7}. Best is trial 17 with value: 0.4666666666666667.\n",
      "[I 2024-04-04 15:17:39,200] Trial 38 finished with value: 0.4083333333333333 and parameters: {'n_neighbors': 3}. Best is trial 17 with value: 0.4666666666666667.\n",
      "[I 2024-04-04 15:17:39,215] Trial 39 finished with value: 0.4666666666666667 and parameters: {'n_neighbors': 5}. Best is trial 17 with value: 0.4666666666666667.\n",
      "[I 2024-04-04 15:17:39,229] Trial 40 finished with value: 0.4 and parameters: {'n_neighbors': 10}. Best is trial 17 with value: 0.4666666666666667.\n",
      "[I 2024-04-04 15:17:39,244] Trial 41 finished with value: 0.4666666666666667 and parameters: {'n_neighbors': 5}. Best is trial 17 with value: 0.4666666666666667.\n",
      "[I 2024-04-04 15:17:39,258] Trial 42 finished with value: 0.43333333333333335 and parameters: {'n_neighbors': 6}. Best is trial 17 with value: 0.4666666666666667.\n",
      "[I 2024-04-04 15:17:39,272] Trial 43 finished with value: 0.43333333333333335 and parameters: {'n_neighbors': 4}. Best is trial 17 with value: 0.4666666666666667.\n",
      "[I 2024-04-04 15:17:39,285] Trial 44 finished with value: 0.4666666666666667 and parameters: {'n_neighbors': 5}. Best is trial 17 with value: 0.4666666666666667.\n",
      "[I 2024-04-04 15:17:39,299] Trial 45 finished with value: 0.43333333333333335 and parameters: {'n_neighbors': 6}. Best is trial 17 with value: 0.4666666666666667.\n",
      "[I 2024-04-04 15:17:39,313] Trial 46 finished with value: 0.43333333333333335 and parameters: {'n_neighbors': 4}. Best is trial 17 with value: 0.4666666666666667.\n",
      "[I 2024-04-04 15:17:39,328] Trial 47 finished with value: 0.4083333333333333 and parameters: {'n_neighbors': 3}. Best is trial 17 with value: 0.4666666666666667.\n",
      "[I 2024-04-04 15:17:39,342] Trial 48 finished with value: 0.4666666666666667 and parameters: {'n_neighbors': 5}. Best is trial 17 with value: 0.4666666666666667.\n",
      "[I 2024-04-04 15:17:39,357] Trial 49 finished with value: 0.43333333333333335 and parameters: {'n_neighbors': 4}. Best is trial 17 with value: 0.4666666666666667.\n",
      "[I 2024-04-04 15:17:39,370] Trial 50 finished with value: 0.43333333333333335 and parameters: {'n_neighbors': 6}. Best is trial 17 with value: 0.4666666666666667.\n",
      "[I 2024-04-04 15:17:39,387] Trial 51 finished with value: 0.4666666666666667 and parameters: {'n_neighbors': 5}. Best is trial 17 with value: 0.4666666666666667.\n",
      "[I 2024-04-04 15:17:39,402] Trial 52 finished with value: 0.4666666666666667 and parameters: {'n_neighbors': 5}. Best is trial 17 with value: 0.4666666666666667.\n",
      "[I 2024-04-04 15:17:39,416] Trial 53 finished with value: 0.4666666666666667 and parameters: {'n_neighbors': 5}. Best is trial 17 with value: 0.4666666666666667.\n",
      "[I 2024-04-04 15:17:39,430] Trial 54 finished with value: 0.43333333333333335 and parameters: {'n_neighbors': 4}. Best is trial 17 with value: 0.4666666666666667.\n",
      "[I 2024-04-04 15:17:39,445] Trial 55 finished with value: 0.43333333333333335 and parameters: {'n_neighbors': 8}. Best is trial 17 with value: 0.4666666666666667.\n",
      "[I 2024-04-04 15:17:39,458] Trial 56 finished with value: 0.4583333333333333 and parameters: {'n_neighbors': 7}. Best is trial 17 with value: 0.4666666666666667.\n",
      "[I 2024-04-04 15:17:39,472] Trial 57 finished with value: 0.43333333333333335 and parameters: {'n_neighbors': 6}. Best is trial 17 with value: 0.4666666666666667.\n",
      "[I 2024-04-04 15:17:39,486] Trial 58 finished with value: 0.43333333333333335 and parameters: {'n_neighbors': 4}. Best is trial 17 with value: 0.4666666666666667.\n",
      "[I 2024-04-04 15:17:39,501] Trial 59 finished with value: 0.4666666666666667 and parameters: {'n_neighbors': 5}. Best is trial 17 with value: 0.4666666666666667.\n",
      "[I 2024-04-04 15:17:39,515] Trial 60 finished with value: 0.43333333333333335 and parameters: {'n_neighbors': 6}. Best is trial 17 with value: 0.4666666666666667.\n",
      "[I 2024-04-04 15:17:39,529] Trial 61 finished with value: 0.4666666666666667 and parameters: {'n_neighbors': 5}. Best is trial 17 with value: 0.4666666666666667.\n",
      "[I 2024-04-04 15:17:39,543] Trial 62 finished with value: 0.4666666666666667 and parameters: {'n_neighbors': 5}. Best is trial 17 with value: 0.4666666666666667.\n",
      "[I 2024-04-04 15:17:39,556] Trial 63 finished with value: 0.43333333333333335 and parameters: {'n_neighbors': 4}. Best is trial 17 with value: 0.4666666666666667.\n",
      "[I 2024-04-04 15:17:39,570] Trial 64 finished with value: 0.4666666666666667 and parameters: {'n_neighbors': 5}. Best is trial 17 with value: 0.4666666666666667.\n",
      "[I 2024-04-04 15:17:39,584] Trial 65 finished with value: 0.43333333333333335 and parameters: {'n_neighbors': 6}. Best is trial 17 with value: 0.4666666666666667.\n",
      "[I 2024-04-04 15:17:39,599] Trial 66 finished with value: 0.43333333333333335 and parameters: {'n_neighbors': 4}. Best is trial 17 with value: 0.4666666666666667.\n",
      "[I 2024-04-04 15:17:39,613] Trial 67 finished with value: 0.4666666666666667 and parameters: {'n_neighbors': 5}. Best is trial 17 with value: 0.4666666666666667.\n",
      "[I 2024-04-04 15:17:39,628] Trial 68 finished with value: 0.4583333333333333 and parameters: {'n_neighbors': 7}. Best is trial 17 with value: 0.4666666666666667.\n",
      "[I 2024-04-04 15:17:39,643] Trial 69 finished with value: 0.45 and parameters: {'n_neighbors': 2}. Best is trial 17 with value: 0.4666666666666667.\n",
      "[I 2024-04-04 15:17:39,657] Trial 70 finished with value: 0.43333333333333335 and parameters: {'n_neighbors': 6}. Best is trial 17 with value: 0.4666666666666667.\n",
      "[I 2024-04-04 15:17:39,670] Trial 71 finished with value: 0.4666666666666667 and parameters: {'n_neighbors': 5}. Best is trial 17 with value: 0.4666666666666667.\n",
      "[I 2024-04-04 15:17:39,685] Trial 72 finished with value: 0.4666666666666667 and parameters: {'n_neighbors': 5}. Best is trial 17 with value: 0.4666666666666667.\n",
      "[I 2024-04-04 15:17:39,702] Trial 73 finished with value: 0.43333333333333335 and parameters: {'n_neighbors': 6}. Best is trial 17 with value: 0.4666666666666667.\n",
      "[I 2024-04-04 15:17:39,716] Trial 74 finished with value: 0.43333333333333335 and parameters: {'n_neighbors': 4}. Best is trial 17 with value: 0.4666666666666667.\n",
      "[I 2024-04-04 15:17:39,730] Trial 75 finished with value: 0.4666666666666667 and parameters: {'n_neighbors': 5}. Best is trial 17 with value: 0.4666666666666667.\n",
      "[I 2024-04-04 15:17:39,745] Trial 76 finished with value: 0.4666666666666667 and parameters: {'n_neighbors': 5}. Best is trial 17 with value: 0.4666666666666667.\n",
      "[I 2024-04-04 15:17:39,768] Trial 77 finished with value: 0.4166666666666667 and parameters: {'n_neighbors': 9}. Best is trial 17 with value: 0.4666666666666667.\n",
      "[I 2024-04-04 15:17:39,784] Trial 78 finished with value: 0.4083333333333333 and parameters: {'n_neighbors': 3}. Best is trial 17 with value: 0.4666666666666667.\n",
      "[I 2024-04-04 15:17:39,798] Trial 79 finished with value: 0.43333333333333335 and parameters: {'n_neighbors': 4}. Best is trial 17 with value: 0.4666666666666667.\n",
      "[I 2024-04-04 15:17:39,815] Trial 80 finished with value: 0.43333333333333335 and parameters: {'n_neighbors': 6}. Best is trial 17 with value: 0.4666666666666667.\n",
      "[I 2024-04-04 15:17:39,829] Trial 81 finished with value: 0.4666666666666667 and parameters: {'n_neighbors': 5}. Best is trial 17 with value: 0.4666666666666667.\n",
      "[I 2024-04-04 15:17:39,843] Trial 82 finished with value: 0.4666666666666667 and parameters: {'n_neighbors': 5}. Best is trial 17 with value: 0.4666666666666667.\n",
      "[I 2024-04-04 15:17:39,858] Trial 83 finished with value: 0.4666666666666667 and parameters: {'n_neighbors': 5}. Best is trial 17 with value: 0.4666666666666667.\n",
      "[I 2024-04-04 15:17:39,873] Trial 84 finished with value: 0.43333333333333335 and parameters: {'n_neighbors': 4}. Best is trial 17 with value: 0.4666666666666667.\n",
      "[I 2024-04-04 15:17:39,887] Trial 85 finished with value: 0.4666666666666667 and parameters: {'n_neighbors': 5}. Best is trial 17 with value: 0.4666666666666667.\n",
      "[I 2024-04-04 15:17:39,902] Trial 86 finished with value: 0.43333333333333335 and parameters: {'n_neighbors': 6}. Best is trial 17 with value: 0.4666666666666667.\n",
      "[I 2024-04-04 15:17:39,916] Trial 87 finished with value: 0.43333333333333335 and parameters: {'n_neighbors': 6}. Best is trial 17 with value: 0.4666666666666667.\n",
      "[I 2024-04-04 15:17:39,930] Trial 88 finished with value: 0.4666666666666667 and parameters: {'n_neighbors': 5}. Best is trial 17 with value: 0.4666666666666667.\n",
      "[I 2024-04-04 15:17:39,944] Trial 89 finished with value: 0.4666666666666667 and parameters: {'n_neighbors': 5}. Best is trial 17 with value: 0.4666666666666667.\n",
      "[I 2024-04-04 15:17:39,959] Trial 90 finished with value: 0.43333333333333335 and parameters: {'n_neighbors': 4}. Best is trial 17 with value: 0.4666666666666667.\n",
      "[I 2024-04-04 15:17:39,973] Trial 91 finished with value: 0.4666666666666667 and parameters: {'n_neighbors': 5}. Best is trial 17 with value: 0.4666666666666667.\n",
      "[I 2024-04-04 15:17:39,987] Trial 92 finished with value: 0.4666666666666667 and parameters: {'n_neighbors': 5}. Best is trial 17 with value: 0.4666666666666667.\n",
      "[I 2024-04-04 15:17:40,002] Trial 93 finished with value: 0.43333333333333335 and parameters: {'n_neighbors': 4}. Best is trial 17 with value: 0.4666666666666667.\n",
      "[I 2024-04-04 15:17:40,016] Trial 94 finished with value: 0.4666666666666667 and parameters: {'n_neighbors': 5}. Best is trial 17 with value: 0.4666666666666667.\n",
      "[I 2024-04-04 15:17:40,029] Trial 95 finished with value: 0.43333333333333335 and parameters: {'n_neighbors': 6}. Best is trial 17 with value: 0.4666666666666667.\n",
      "[I 2024-04-04 15:17:40,044] Trial 96 finished with value: 0.4666666666666667 and parameters: {'n_neighbors': 5}. Best is trial 17 with value: 0.4666666666666667.\n",
      "[I 2024-04-04 15:17:40,058] Trial 97 finished with value: 0.43333333333333335 and parameters: {'n_neighbors': 4}. Best is trial 17 with value: 0.4666666666666667.\n",
      "[I 2024-04-04 15:17:40,073] Trial 98 finished with value: 0.4666666666666667 and parameters: {'n_neighbors': 5}. Best is trial 17 with value: 0.4666666666666667.\n",
      "[I 2024-04-04 15:17:40,087] Trial 99 finished with value: 0.43333333333333335 and parameters: {'n_neighbors': 6}. Best is trial 17 with value: 0.4666666666666667.\n"
     ]
    },
    {
     "name": "stdout",
     "output_type": "stream",
     "text": [
      "Best params:\n",
      "n_neighbors = 5\n",
      "Best accuracy= 0.4666666666666667\n"
     ]
    },
    {
     "data": {
      "text/plain": [
       "Text(0, 0.5, 'accuracy')"
      ]
     },
     "execution_count": 13,
     "metadata": {},
     "output_type": "execute_result"
    },
    {
     "data": {
      "image/png": "[encoded data removed]",
      "text/plain": [
       "<Figure size 640x480 with 1 Axes>"
      ]
     },
     "metadata": {},
     "output_type": "display_data"
    }
   ],
   "source": [
    "study = optuna.create_study(direction='maximize')\n",
    "study.optimize(neighbors_param, n_trials=100)\n",
    "tr = study.best_trial\n",
    "print_best(tr)\n",
    "\n",
    "x_values = [trial.params['n_neighbors'] for trial in study.get_trials()]\n",
    "y_values = [trial.value for trial in study.get_trials()]\n",
    "\n",
    "mp = dict()\n",
    "\n",
    "for i in range(len(x_values)):\n",
    "    key = x_values[i]\n",
    "    value = y_values[i]\n",
    "    if key not in mp:\n",
    "        mp[key] = value\n",
    "    else:\n",
    "        mp[key] = max(mp[key], value)\n",
    "\n",
    "sorted_dict = dict(sorted(mp.items()))\n",
    "x = list(sorted_dict.keys())\n",
    "y = list(sorted_dict.values())\n",
    "\n",
    "plt.plot(x, y, color='blue')\n",
    "plt.grid(True)\n",
    "plt.xlabel('neighbors')\n",
    "plt.ylabel('accuracy')"
   ]
  },
  {
   "cell_type": "markdown",
   "id": "34150e75",
   "metadata": {},
   "source": [
    "## Расстояние"
   ]
  },
  {
   "cell_type": "code",
   "execution_count": 14,
   "id": "e182c5b2",
   "metadata": {},
   "outputs": [
    {
     "name": "stderr",
     "output_type": "stream",
     "text": [
      "[I 2024-04-04 15:17:40,284] A new study created in memory with name: no-name-f16c2923-dd2a-4faa-bddc-f0017fd2df79\n",
      "[I 2024-04-04 15:17:40,297] Trial 0 finished with value: 0.44166666666666665 and parameters: {'p': 11}. Best is trial 0 with value: 0.44166666666666665.\n",
      "[I 2024-04-04 15:17:40,307] Trial 1 finished with value: 0.475 and parameters: {'p': 4}. Best is trial 1 with value: 0.475.\n",
      "[I 2024-04-04 15:17:40,318] Trial 2 finished with value: 0.4666666666666667 and parameters: {'p': 5}. Best is trial 1 with value: 0.475.\n",
      "[I 2024-04-04 15:17:40,328] Trial 3 finished with value: 0.44166666666666665 and parameters: {'p': 13}. Best is trial 1 with value: 0.475.\n",
      "[I 2024-04-04 15:17:40,338] Trial 4 finished with value: 0.4666666666666667 and parameters: {'p': 2}. Best is trial 1 with value: 0.475.\n",
      "[I 2024-04-04 15:17:40,348] Trial 5 finished with value: 0.475 and parameters: {'p': 3}. Best is trial 1 with value: 0.475.\n",
      "[I 2024-04-04 15:17:40,358] Trial 6 finished with value: 0.425 and parameters: {'p': 20}. Best is trial 1 with value: 0.475.\n",
      "[I 2024-04-04 15:17:40,368] Trial 7 finished with value: 0.44166666666666665 and parameters: {'p': 13}. Best is trial 1 with value: 0.475.\n",
      "[I 2024-04-04 15:17:40,378] Trial 8 finished with value: 0.43333333333333335 and parameters: {'p': 15}. Best is trial 1 with value: 0.475.\n",
      "[I 2024-04-04 15:17:40,389] Trial 9 finished with value: 0.43333333333333335 and parameters: {'p': 24}. Best is trial 1 with value: 0.475.\n",
      "[I 2024-04-04 15:17:40,402] Trial 10 finished with value: 0.44166666666666665 and parameters: {'p': 8}. Best is trial 1 with value: 0.475.\n",
      "[I 2024-04-04 15:17:40,416] Trial 11 finished with value: 0.475 and parameters: {'p': 1}. Best is trial 1 with value: 0.475.\n",
      "[I 2024-04-04 15:17:40,436] Trial 12 finished with value: 0.44166666666666665 and parameters: {'p': 7}. Best is trial 1 with value: 0.475.\n",
      "[I 2024-04-04 15:17:40,453] Trial 13 finished with value: 0.475 and parameters: {'p': 4}. Best is trial 1 with value: 0.475.\n",
      "[I 2024-04-04 15:17:40,467] Trial 14 finished with value: 0.44166666666666665 and parameters: {'p': 9}. Best is trial 1 with value: 0.475.\n",
      "[I 2024-04-04 15:17:40,481] Trial 15 finished with value: 0.475 and parameters: {'p': 4}. Best is trial 1 with value: 0.475.\n",
      "[I 2024-04-04 15:17:40,496] Trial 16 finished with value: 0.425 and parameters: {'p': 18}. Best is trial 1 with value: 0.475.\n",
      "[I 2024-04-04 15:17:40,510] Trial 17 finished with value: 0.475 and parameters: {'p': 1}. Best is trial 1 with value: 0.475.\n",
      "[I 2024-04-04 15:17:40,525] Trial 18 finished with value: 0.45 and parameters: {'p': 6}. Best is trial 1 with value: 0.475.\n",
      "[I 2024-04-04 15:17:40,539] Trial 19 finished with value: 0.44166666666666665 and parameters: {'p': 11}. Best is trial 1 with value: 0.475.\n",
      "[I 2024-04-04 15:17:40,554] Trial 20 finished with value: 0.475 and parameters: {'p': 3}. Best is trial 1 with value: 0.475.\n",
      "[I 2024-04-04 15:17:40,568] Trial 21 finished with value: 0.4666666666666667 and parameters: {'p': 2}. Best is trial 1 with value: 0.475.\n",
      "[I 2024-04-04 15:17:40,583] Trial 22 finished with value: 0.45 and parameters: {'p': 6}. Best is trial 1 with value: 0.475.\n",
      "[I 2024-04-04 15:17:40,598] Trial 23 finished with value: 0.4666666666666667 and parameters: {'p': 2}. Best is trial 1 with value: 0.475.\n",
      "[I 2024-04-04 15:17:40,612] Trial 24 finished with value: 0.475 and parameters: {'p': 1}. Best is trial 1 with value: 0.475.\n",
      "[I 2024-04-04 15:17:40,628] Trial 25 finished with value: 0.475 and parameters: {'p': 4}. Best is trial 1 with value: 0.475.\n",
      "[I 2024-04-04 15:17:40,645] Trial 26 finished with value: 0.44166666666666665 and parameters: {'p': 9}. Best is trial 1 with value: 0.475.\n",
      "[I 2024-04-04 15:17:40,662] Trial 27 finished with value: 0.45 and parameters: {'p': 6}. Best is trial 1 with value: 0.475.\n",
      "[I 2024-04-04 15:17:40,678] Trial 28 finished with value: 0.44166666666666665 and parameters: {'p': 11}. Best is trial 1 with value: 0.475.\n",
      "[I 2024-04-04 15:17:40,694] Trial 29 finished with value: 0.475 and parameters: {'p': 1}. Best is trial 1 with value: 0.475.\n",
      "[I 2024-04-04 15:17:40,711] Trial 30 finished with value: 0.425 and parameters: {'p': 16}. Best is trial 1 with value: 0.475.\n",
      "[I 2024-04-04 15:17:40,726] Trial 31 finished with value: 0.475 and parameters: {'p': 4}. Best is trial 1 with value: 0.475.\n",
      "[I 2024-04-04 15:17:40,741] Trial 32 finished with value: 0.475 and parameters: {'p': 4}. Best is trial 1 with value: 0.475.\n",
      "[I 2024-04-04 15:17:40,755] Trial 33 finished with value: 0.4666666666666667 and parameters: {'p': 5}. Best is trial 1 with value: 0.475.\n",
      "[I 2024-04-04 15:17:40,770] Trial 34 finished with value: 0.475 and parameters: {'p': 3}. Best is trial 1 with value: 0.475.\n",
      "[I 2024-04-04 15:17:40,784] Trial 35 finished with value: 0.44166666666666665 and parameters: {'p': 8}. Best is trial 1 with value: 0.475.\n",
      "[I 2024-04-04 15:17:40,799] Trial 36 finished with value: 0.475 and parameters: {'p': 3}. Best is trial 1 with value: 0.475.\n",
      "[I 2024-04-04 15:17:40,814] Trial 37 finished with value: 0.4666666666666667 and parameters: {'p': 5}. Best is trial 1 with value: 0.475.\n",
      "[I 2024-04-04 15:17:40,829] Trial 38 finished with value: 0.43333333333333335 and parameters: {'p': 25}. Best is trial 1 with value: 0.475.\n",
      "[I 2024-04-04 15:17:40,844] Trial 39 finished with value: 0.43333333333333335 and parameters: {'p': 22}. Best is trial 1 with value: 0.475.\n",
      "[I 2024-04-04 15:17:40,858] Trial 40 finished with value: 0.44166666666666665 and parameters: {'p': 7}. Best is trial 1 with value: 0.475.\n",
      "[I 2024-04-04 15:17:40,874] Trial 41 finished with value: 0.475 and parameters: {'p': 3}. Best is trial 1 with value: 0.475.\n",
      "[I 2024-04-04 15:17:40,888] Trial 42 finished with value: 0.475 and parameters: {'p': 1}. Best is trial 1 with value: 0.475.\n",
      "[I 2024-04-04 15:17:40,903] Trial 43 finished with value: 0.4666666666666667 and parameters: {'p': 5}. Best is trial 1 with value: 0.475.\n",
      "[I 2024-04-04 15:17:40,918] Trial 44 finished with value: 0.44166666666666665 and parameters: {'p': 10}. Best is trial 1 with value: 0.475.\n",
      "[I 2024-04-04 15:17:40,933] Trial 45 finished with value: 0.44166666666666665 and parameters: {'p': 7}. Best is trial 1 with value: 0.475.\n",
      "[I 2024-04-04 15:17:40,947] Trial 46 finished with value: 0.4666666666666667 and parameters: {'p': 2}. Best is trial 1 with value: 0.475.\n",
      "[I 2024-04-04 15:17:40,961] Trial 47 finished with value: 0.475 and parameters: {'p': 4}. Best is trial 1 with value: 0.475.\n",
      "[I 2024-04-04 15:17:40,976] Trial 48 finished with value: 0.44166666666666665 and parameters: {'p': 13}. Best is trial 1 with value: 0.475.\n",
      "[I 2024-04-04 15:17:40,990] Trial 49 finished with value: 0.4666666666666667 and parameters: {'p': 2}. Best is trial 1 with value: 0.475.\n",
      "[I 2024-04-04 15:17:41,003] Trial 50 finished with value: 0.43333333333333335 and parameters: {'p': 15}. Best is trial 1 with value: 0.475.\n",
      "[I 2024-04-04 15:17:41,018] Trial 51 finished with value: 0.475 and parameters: {'p': 1}. Best is trial 1 with value: 0.475.\n",
      "[I 2024-04-04 15:17:41,033] Trial 52 finished with value: 0.475 and parameters: {'p': 3}. Best is trial 1 with value: 0.475.\n",
      "[I 2024-04-04 15:17:41,049] Trial 53 finished with value: 0.45 and parameters: {'p': 6}. Best is trial 1 with value: 0.475.\n",
      "[I 2024-04-04 15:17:41,063] Trial 54 finished with value: 0.4666666666666667 and parameters: {'p': 2}. Best is trial 1 with value: 0.475.\n",
      "[I 2024-04-04 15:17:41,077] Trial 55 finished with value: 0.475 and parameters: {'p': 1}. Best is trial 1 with value: 0.475.\n",
      "[I 2024-04-04 15:17:41,092] Trial 56 finished with value: 0.475 and parameters: {'p': 4}. Best is trial 1 with value: 0.475.\n",
      "[I 2024-04-04 15:17:41,115] Trial 57 finished with value: 0.45 and parameters: {'p': 6}. Best is trial 1 with value: 0.475.\n",
      "[I 2024-04-04 15:17:41,132] Trial 58 finished with value: 0.4666666666666667 and parameters: {'p': 5}. Best is trial 1 with value: 0.475.\n",
      "[I 2024-04-04 15:17:41,148] Trial 59 finished with value: 0.44166666666666665 and parameters: {'p': 8}. Best is trial 1 with value: 0.475.\n",
      "[I 2024-04-04 15:17:41,163] Trial 60 finished with value: 0.4666666666666667 and parameters: {'p': 2}. Best is trial 1 with value: 0.475.\n",
      "[I 2024-04-04 15:17:41,179] Trial 61 finished with value: 0.475 and parameters: {'p': 3}. Best is trial 1 with value: 0.475.\n",
      "[I 2024-04-04 15:17:41,195] Trial 62 finished with value: 0.475 and parameters: {'p': 4}. Best is trial 1 with value: 0.475.\n",
      "[I 2024-04-04 15:17:41,209] Trial 63 finished with value: 0.475 and parameters: {'p': 1}. Best is trial 1 with value: 0.475.\n",
      "[I 2024-04-04 15:17:41,225] Trial 64 finished with value: 0.475 and parameters: {'p': 3}. Best is trial 1 with value: 0.475.\n",
      "[I 2024-04-04 15:17:41,248] Trial 65 finished with value: 0.425 and parameters: {'p': 19}. Best is trial 1 with value: 0.475.\n",
      "[I 2024-04-04 15:17:41,264] Trial 66 finished with value: 0.4666666666666667 and parameters: {'p': 5}. Best is trial 1 with value: 0.475.\n",
      "[I 2024-04-04 15:17:41,279] Trial 67 finished with value: 0.4666666666666667 and parameters: {'p': 2}. Best is trial 1 with value: 0.475.\n",
      "[I 2024-04-04 15:17:41,296] Trial 68 finished with value: 0.475 and parameters: {'p': 3}. Best is trial 1 with value: 0.475.\n",
      "[I 2024-04-04 15:17:41,312] Trial 69 finished with value: 0.44166666666666665 and parameters: {'p': 7}. Best is trial 1 with value: 0.475.\n",
      "[I 2024-04-04 15:17:41,326] Trial 70 finished with value: 0.475 and parameters: {'p': 1}. Best is trial 1 with value: 0.475.\n",
      "[I 2024-04-04 15:17:41,341] Trial 71 finished with value: 0.475 and parameters: {'p': 1}. Best is trial 1 with value: 0.475.\n",
      "[I 2024-04-04 15:17:41,356] Trial 72 finished with value: 0.475 and parameters: {'p': 4}. Best is trial 1 with value: 0.475.\n",
      "[I 2024-04-04 15:17:41,371] Trial 73 finished with value: 0.4666666666666667 and parameters: {'p': 2}. Best is trial 1 with value: 0.475.\n",
      "[I 2024-04-04 15:17:41,385] Trial 74 finished with value: 0.475 and parameters: {'p': 3}. Best is trial 1 with value: 0.475.\n",
      "[I 2024-04-04 15:17:41,400] Trial 75 finished with value: 0.4666666666666667 and parameters: {'p': 5}. Best is trial 1 with value: 0.475.\n",
      "[I 2024-04-04 15:17:41,414] Trial 76 finished with value: 0.4666666666666667 and parameters: {'p': 2}. Best is trial 1 with value: 0.475.\n",
      "[I 2024-04-04 15:17:41,429] Trial 77 finished with value: 0.475 and parameters: {'p': 4}. Best is trial 1 with value: 0.475.\n",
      "[I 2024-04-04 15:17:41,444] Trial 78 finished with value: 0.475 and parameters: {'p': 1}. Best is trial 1 with value: 0.475.\n",
      "[I 2024-04-04 15:17:41,460] Trial 79 finished with value: 0.475 and parameters: {'p': 3}. Best is trial 1 with value: 0.475.\n",
      "[I 2024-04-04 15:17:41,475] Trial 80 finished with value: 0.45 and parameters: {'p': 6}. Best is trial 1 with value: 0.475.\n",
      "[I 2024-04-04 15:17:41,491] Trial 81 finished with value: 0.475 and parameters: {'p': 4}. Best is trial 1 with value: 0.475.\n",
      "[I 2024-04-04 15:17:41,506] Trial 82 finished with value: 0.4666666666666667 and parameters: {'p': 2}. Best is trial 1 with value: 0.475.\n",
      "[I 2024-04-04 15:17:41,521] Trial 83 finished with value: 0.4666666666666667 and parameters: {'p': 5}. Best is trial 1 with value: 0.475.\n",
      "[I 2024-04-04 15:17:41,537] Trial 84 finished with value: 0.475 and parameters: {'p': 3}. Best is trial 1 with value: 0.475.\n",
      "[I 2024-04-04 15:17:41,552] Trial 85 finished with value: 0.475 and parameters: {'p': 1}. Best is trial 1 with value: 0.475.\n",
      "[I 2024-04-04 15:17:41,568] Trial 86 finished with value: 0.44166666666666665 and parameters: {'p': 12}. Best is trial 1 with value: 0.475.\n",
      "[I 2024-04-04 15:17:41,584] Trial 87 finished with value: 0.475 and parameters: {'p': 4}. Best is trial 1 with value: 0.475.\n",
      "[I 2024-04-04 15:17:41,599] Trial 88 finished with value: 0.43333333333333335 and parameters: {'p': 22}. Best is trial 1 with value: 0.475.\n",
      "[I 2024-04-04 15:17:41,614] Trial 89 finished with value: 0.4666666666666667 and parameters: {'p': 2}. Best is trial 1 with value: 0.475.\n",
      "[I 2024-04-04 15:17:41,630] Trial 90 finished with value: 0.44166666666666665 and parameters: {'p': 9}. Best is trial 1 with value: 0.475.\n",
      "[I 2024-04-04 15:17:41,645] Trial 91 finished with value: 0.475 and parameters: {'p': 1}. Best is trial 1 with value: 0.475.\n",
      "[I 2024-04-04 15:17:41,660] Trial 92 finished with value: 0.4666666666666667 and parameters: {'p': 2}. Best is trial 1 with value: 0.475.\n",
      "[I 2024-04-04 15:17:41,674] Trial 93 finished with value: 0.475 and parameters: {'p': 1}. Best is trial 1 with value: 0.475.\n",
      "[I 2024-04-04 15:17:41,691] Trial 94 finished with value: 0.475 and parameters: {'p': 3}. Best is trial 1 with value: 0.475.\n",
      "[I 2024-04-04 15:17:41,710] Trial 95 finished with value: 0.45 and parameters: {'p': 6}. Best is trial 1 with value: 0.475.\n",
      "[I 2024-04-04 15:17:41,727] Trial 96 finished with value: 0.425 and parameters: {'p': 17}. Best is trial 1 with value: 0.475.\n",
      "[I 2024-04-04 15:17:41,741] Trial 97 finished with value: 0.44166666666666665 and parameters: {'p': 14}. Best is trial 1 with value: 0.475.\n",
      "[I 2024-04-04 15:17:41,757] Trial 98 finished with value: 0.475 and parameters: {'p': 4}. Best is trial 1 with value: 0.475.\n",
      "[I 2024-04-04 15:17:41,771] Trial 99 finished with value: 0.4666666666666667 and parameters: {'p': 2}. Best is trial 1 with value: 0.475.\n"
     ]
    },
    {
     "name": "stdout",
     "output_type": "stream",
     "text": [
      "Best params:\n",
      "p = 4\n",
      "Best accuracy= 0.475\n"
     ]
    },
    {
     "data": {
      "image/png": "[encoded data removed]",
      "text/plain": [
       "<Figure size 640x480 with 1 Axes>"
      ]
     },
     "metadata": {},
     "output_type": "display_data"
    }
   ],
   "source": [
    "study = optuna.create_study(direction='maximize')\n",
    "study.optimize(p_param, n_trials=100)\n",
    "tr = study.best_trial\n",
    "print_best(tr)\n",
    "\n",
    "x_values = [trial.params['p'] for trial in study.get_trials()]\n",
    "y_values = [trial.value for trial in study.get_trials()]\n",
    "\n",
    "\n",
    "mp = dict()\n",
    "\n",
    "mp = dict()\n",
    "\n",
    "for i in range(len(x_values)):\n",
    "    key = x_values[i]\n",
    "    value = y_values[i]\n",
    "    if key not in mp:\n",
    "        mp[key] = value\n",
    "    else:\n",
    "        mp[key] = max(mp[key], value)\n",
    "\n",
    "sorted_dict = dict(sorted(mp.items()))\n",
    "x = list(sorted_dict.keys())\n",
    "y = list(sorted_dict.values())\n",
    "\n",
    "plt.plot(x, y, color='blue')\n",
    "plt.grid(True)\n",
    "plt.xlabel('p')\n",
    "plt.ylabel('accuracy')\n",
    "plt.show()"
   ]
  },
  {
   "cell_type": "markdown",
   "id": "626b802d",
   "metadata": {},
   "source": [
    "## My knn"
   ]
  },
  {
   "cell_type": "markdown",
   "id": "cba010fa",
   "metadata": {},
   "source": [
    "## Metrics"
   ]
  },
  {
   "cell_type": "code",
   "execution_count": 15,
   "id": "060f2fc6",
   "metadata": {},
   "outputs": [],
   "source": [
    "def minkowski(a, b, p):\n",
    "    sm = 0\n",
    "    for i in range(len(a)):\n",
    "        sm = sm + (abs(a[i] - b[i]) ** p)\n",
    "    return sm ** p\n",
    "\n",
    "def cos_similarity(a, b):\n",
    "    pr = np.dot(a, b)\n",
    "    a1 = np.linalg.norm(a)\n",
    "    b1 = np.linalg.norm(b)\n",
    "    return pr / a1 * b1\n"
   ]
  },
  {
   "cell_type": "code",
   "execution_count": 16,
   "id": "0660330d",
   "metadata": {},
   "outputs": [],
   "source": [
    "def manhattan(a, b):\n",
    "    return minkowski(a, b, 1)\n",
    "\n",
    "def evk(a, b):\n",
    "    return minkowski(a, b, 2)\n",
    "\n",
    "def cos_dist(a, b):\n",
    "    return 1 - cos_similarity(a, b)\n",
    "\n",
    "metrics = [manhattan, evk, cos_dist]"
   ]
  },
  {
   "cell_type": "markdown",
   "id": "a165ed75",
   "metadata": {},
   "source": [
    "# Kernels"
   ]
  },
  {
   "cell_type": "code",
   "execution_count": 17,
   "id": "0010cbbc",
   "metadata": {},
   "outputs": [],
   "source": [
    "def uniform(u):\n",
    "    t = 1 if u < 1 else 0\n",
    "    return t * 0.5\n",
    "\n",
    "def epan(u):\n",
    "    t = 1 if u < 1 else 0\n",
    "    return 3 / 4 * (1 - u**2) * t\n",
    "\n",
    "def triang(u):\n",
    "    t = 1 if u < 1 else 0\n",
    "    return (1 - abs(u)) * t\n",
    "\n",
    "def gaussian(u):\n",
    "    return 1 / math.sqrt(2 * 3.14) * math.exp(-(u**2) / 2)\n",
    "\n",
    "kernels = [uniform, epan, triang, gaussian]"
   ]
  },
  {
   "cell_type": "code",
   "execution_count": 18,
   "id": "980d859d",
   "metadata": {},
   "outputs": [],
   "source": [
    "arr = []\n",
    "for _, row in df.iterrows():\n",
    "    val = []\n",
    "    for _, v in row.items():\n",
    "            val.append(v)\n",
    "    arr.append((val[:-1], val[-1]))"
   ]
  },
  {
   "cell_type": "markdown",
   "id": "24ad265b",
   "metadata": {},
   "source": [
    "## Train and test"
   ]
  },
  {
   "cell_type": "code",
   "execution_count": 19,
   "id": "37247af6",
   "metadata": {},
   "outputs": [],
   "source": [
    "p = int(len(arr) * 0.4)\n",
    "train = arr[:p]\n",
    "test = arr[p:]\n",
    "\n",
    "train_x = [el[0] for el in arr][:p]\n",
    "train_y = [el[1] for el in arr][:p]\n",
    "\n",
    "test_x = [el[0] for el in arr][p:]\n",
    "test_y = [el[1] for el in arr][p:]\n",
    "\n"
   ]
  },
  {
   "cell_type": "code",
   "execution_count": 20,
   "id": "23a7148b",
   "metadata": {},
   "outputs": [],
   "source": [
    "class MyKnn:\n",
    "\n",
    "    def __init__(self, train, kernel, metric, n, h=None, w=None):\n",
    "        self.train_x = [el[0] for el in train][:p]\n",
    "        self.train_y = [el[1] for el in train][:p]\n",
    "        self.kernel = kernel\n",
    "        self.metric = metric\n",
    "        self.h = h\n",
    "        self.w = w\n",
    "        self.n = n\n",
    "\n",
    "    def predict(self, test):\n",
    "        res = []\n",
    "        for i in range(len(test)):\n",
    "            cur = test[i]\n",
    "            if self.h == None:\n",
    "                res.append(self.window(cur))\n",
    "            else:\n",
    "                res.append(self.const_window(cur, self.h))\n",
    "        return res\n",
    "\n",
    "\n",
    "    def const_window(self, cur, h):\n",
    "        dst = []\n",
    "        for i in range(len(self.train_x)):\n",
    "            x = 1 if self.w == None else self.w[i]\n",
    "            t = x * self.kernel(self.metric(cur, self.train_x[i]) / h)\n",
    "            dst.append((self.train_y[i], t))\n",
    "        s = sorted(dst, key=lambda x: x[1])\n",
    "        f = [pair[0] for pair in s]\n",
    "        c = Counter(f[:self.n])\n",
    "        return c.most_common(1)[0][0]\n",
    "\n",
    "    def window(self, cur):\n",
    "        dst = []\n",
    "        for i in range(len(self.train_x)):\n",
    "            el = self.train_x[i] #data[i]\n",
    "            t = self.metric(cur, el)\n",
    "            dst.append((self.train_y[i], t))\n",
    "        s = sorted(dst, key=lambda x: x[1])\n",
    "        h = s[self.n+1][1]\n",
    "        return self.const_window(cur, h)\n"
   ]
  },
  {
   "cell_type": "code",
   "execution_count": 21,
   "id": "526c96f4",
   "metadata": {},
   "outputs": [
    {
     "name": "stdout",
     "output_type": "stream",
     "text": [
      "0.425\n"
     ]
    }
   ],
   "source": [
    "exp = [p[1] for p in test]\n",
    "\n",
    "\n",
    "model = MyKnn(train, kernel=triang, metric=evk, n=10, h=1)\n",
    "res = model.predict(test_x)\n",
    "print(accuracy_score(res, exp))\n"
   ]
  },
  {
   "cell_type": "code",
   "execution_count": 22,
   "id": "e4453e51",
   "metadata": {},
   "outputs": [],
   "source": [
    "def all_params(trial):\n",
    "    n = trial.suggest_int('neighbors', 3, 10)\n",
    "    h = trial.suggest_int('h', 1, 100)\n",
    "    model = MyKnn(train, kernel=triang, metric=evk, n=n, h=h)\n",
    "    res = model.predict(test_x)\n",
    "    return accuracy_score(res, exp)\n",
    "\n",
    "def my_h(trial):\n",
    "    h = trial.suggest_int('h', 1, 100)\n",
    "    model = MyKnn(train, kernel=triang, metric=evk, n = 10, h = h)\n",
    "    res = model.predict(test_x)\n",
    "    return accuracy_score(res, exp)\n",
    "\n",
    "def my_n(trial):\n",
    "    n = trial.suggest_int('neighbors', 3, 10)\n",
    "    model = MyKnn(train, h=10, n=n, kernel=triang, metric=evk)\n",
    "    res = model.predict(test_x)\n",
    "    return accuracy_score(res, exp)\n"
   ]
  },
  {
   "cell_type": "markdown",
   "id": "2bbf766d",
   "metadata": {},
   "source": [
    "## Соседи и расстояние"
   ]
  },
  {
   "cell_type": "code",
   "execution_count": 23,
   "id": "6f2944c5",
   "metadata": {
    "scrolled": true
   },
   "outputs": [
    {
     "name": "stderr",
     "output_type": "stream",
     "text": [
      "[I 2024-04-04 15:17:41,993] A new study created in memory with name: no-name-018e6ab5-ec28-4b61-b3da-ce4222555128\n",
      "[I 2024-04-04 15:17:42,015] Trial 0 finished with value: 0.3 and parameters: {'neighbors': 8, 'h': 12}. Best is trial 0 with value: 0.3.\n",
      "[I 2024-04-04 15:17:42,035] Trial 1 finished with value: 0.30833333333333335 and parameters: {'neighbors': 10, 'h': 66}. Best is trial 1 with value: 0.30833333333333335.\n",
      "[I 2024-04-04 15:17:42,054] Trial 2 finished with value: 0.24166666666666667 and parameters: {'neighbors': 5, 'h': 34}. Best is trial 1 with value: 0.30833333333333335.\n",
      "[I 2024-04-04 15:17:42,086] Trial 3 finished with value: 0.24166666666666667 and parameters: {'neighbors': 5, 'h': 84}. Best is trial 1 with value: 0.30833333333333335.\n",
      "[I 2024-04-04 15:17:42,106] Trial 4 finished with value: 0.24166666666666667 and parameters: {'neighbors': 5, 'h': 42}. Best is trial 1 with value: 0.30833333333333335.\n",
      "[I 2024-04-04 15:17:42,128] Trial 5 finished with value: 0.30833333333333335 and parameters: {'neighbors': 9, 'h': 27}. Best is trial 1 with value: 0.30833333333333335.\n",
      "[I 2024-04-04 15:17:42,146] Trial 6 finished with value: 0.275 and parameters: {'neighbors': 6, 'h': 100}. Best is trial 1 with value: 0.30833333333333335.\n",
      "[I 2024-04-04 15:17:42,167] Trial 7 finished with value: 0.23333333333333334 and parameters: {'neighbors': 3, 'h': 46}. Best is trial 1 with value: 0.30833333333333335.\n",
      "[I 2024-04-04 15:17:42,186] Trial 8 finished with value: 0.275 and parameters: {'neighbors': 4, 'h': 26}. Best is trial 1 with value: 0.30833333333333335.\n",
      "[I 2024-04-04 15:17:42,206] Trial 9 finished with value: 0.275 and parameters: {'neighbors': 6, 'h': 81}. Best is trial 1 with value: 0.30833333333333335.\n",
      "[I 2024-04-04 15:17:42,234] Trial 10 finished with value: 0.30833333333333335 and parameters: {'neighbors': 10, 'h': 66}. Best is trial 1 with value: 0.30833333333333335.\n",
      "[I 2024-04-04 15:17:42,261] Trial 11 finished with value: 0.4083333333333333 and parameters: {'neighbors': 10, 'h': 5}. Best is trial 11 with value: 0.4083333333333333.\n",
      "[I 2024-04-04 15:17:42,286] Trial 12 finished with value: 0.30833333333333335 and parameters: {'neighbors': 10, 'h': 60}. Best is trial 11 with value: 0.4083333333333333.\n",
      "[I 2024-04-04 15:17:42,313] Trial 13 finished with value: 0.39166666666666666 and parameters: {'neighbors': 8, 'h': 1}. Best is trial 11 with value: 0.4083333333333333.\n",
      "[I 2024-04-04 15:17:42,340] Trial 14 finished with value: 0.39166666666666666 and parameters: {'neighbors': 8, 'h': 1}. Best is trial 11 with value: 0.4083333333333333.\n",
      "[I 2024-04-04 15:17:42,366] Trial 15 finished with value: 0.36666666666666664 and parameters: {'neighbors': 8, 'h': 2}. Best is trial 11 with value: 0.4083333333333333.\n",
      "[I 2024-04-04 15:17:42,393] Trial 16 finished with value: 0.30833333333333335 and parameters: {'neighbors': 9, 'h': 14}. Best is trial 11 with value: 0.4083333333333333.\n",
      "[I 2024-04-04 15:17:42,419] Trial 17 finished with value: 0.30833333333333335 and parameters: {'neighbors': 7, 'h': 14}. Best is trial 11 with value: 0.4083333333333333.\n",
      "[I 2024-04-04 15:17:42,445] Trial 18 finished with value: 0.30833333333333335 and parameters: {'neighbors': 9, 'h': 21}. Best is trial 11 with value: 0.4083333333333333.\n",
      "[I 2024-04-04 15:17:42,473] Trial 19 finished with value: 0.39166666666666666 and parameters: {'neighbors': 7, 'h': 1}. Best is trial 11 with value: 0.4083333333333333.\n",
      "[I 2024-04-04 15:17:42,500] Trial 20 finished with value: 0.30833333333333335 and parameters: {'neighbors': 9, 'h': 35}. Best is trial 11 with value: 0.4083333333333333.\n",
      "[I 2024-04-04 15:17:42,526] Trial 21 finished with value: 0.325 and parameters: {'neighbors': 7, 'h': 7}. Best is trial 11 with value: 0.4083333333333333.\n",
      "[I 2024-04-04 15:17:42,554] Trial 22 finished with value: 0.39166666666666666 and parameters: {'neighbors': 8, 'h': 1}. Best is trial 11 with value: 0.4083333333333333.\n",
      "[I 2024-04-04 15:17:42,589] Trial 23 finished with value: 0.3 and parameters: {'neighbors': 8, 'h': 21}. Best is trial 11 with value: 0.4083333333333333.\n",
      "[I 2024-04-04 15:17:42,616] Trial 24 finished with value: 0.30833333333333335 and parameters: {'neighbors': 9, 'h': 16}. Best is trial 11 with value: 0.4083333333333333.\n",
      "[I 2024-04-04 15:17:42,642] Trial 25 finished with value: 0.30833333333333335 and parameters: {'neighbors': 10, 'h': 9}. Best is trial 11 with value: 0.4083333333333333.\n",
      "[I 2024-04-04 15:17:42,670] Trial 26 finished with value: 0.3 and parameters: {'neighbors': 8, 'h': 8}. Best is trial 11 with value: 0.4083333333333333.\n",
      "[I 2024-04-04 15:17:42,698] Trial 27 finished with value: 0.30833333333333335 and parameters: {'neighbors': 7, 'h': 32}. Best is trial 11 with value: 0.4083333333333333.\n",
      "[I 2024-04-04 15:17:42,730] Trial 28 finished with value: 0.275 and parameters: {'neighbors': 6, 'h': 20}. Best is trial 11 with value: 0.4083333333333333.\n",
      "[I 2024-04-04 15:17:42,757] Trial 29 finished with value: 0.2916666666666667 and parameters: {'neighbors': 8, 'h': 7}. Best is trial 11 with value: 0.4083333333333333.\n",
      "[I 2024-04-04 15:17:42,785] Trial 30 finished with value: 0.30833333333333335 and parameters: {'neighbors': 9, 'h': 54}. Best is trial 11 with value: 0.4083333333333333.\n",
      "[I 2024-04-04 15:17:42,812] Trial 31 finished with value: 0.35 and parameters: {'neighbors': 7, 'h': 2}. Best is trial 11 with value: 0.4083333333333333.\n",
      "[I 2024-04-04 15:17:42,839] Trial 32 finished with value: 0.35 and parameters: {'neighbors': 7, 'h': 2}. Best is trial 11 with value: 0.4083333333333333.\n",
      "[I 2024-04-04 15:17:42,869] Trial 33 finished with value: 0.26666666666666666 and parameters: {'neighbors': 6, 'h': 12}. Best is trial 11 with value: 0.4083333333333333.\n",
      "[I 2024-04-04 15:17:42,898] Trial 34 finished with value: 0.2833333333333333 and parameters: {'neighbors': 8, 'h': 9}. Best is trial 11 with value: 0.4083333333333333.\n",
      "[I 2024-04-04 15:17:42,927] Trial 35 finished with value: 0.30833333333333335 and parameters: {'neighbors': 10, 'h': 17}. Best is trial 11 with value: 0.4083333333333333.\n",
      "[I 2024-04-04 15:17:42,955] Trial 36 finished with value: 0.39166666666666666 and parameters: {'neighbors': 7, 'h': 1}. Best is trial 11 with value: 0.4083333333333333.\n",
      "[I 2024-04-04 15:17:42,983] Trial 37 finished with value: 0.24166666666666667 and parameters: {'neighbors': 5, 'h': 29}. Best is trial 11 with value: 0.4083333333333333.\n",
      "[I 2024-04-04 15:17:43,023] Trial 38 finished with value: 0.3 and parameters: {'neighbors': 8, 'h': 42}. Best is trial 11 with value: 0.4083333333333333.\n",
      "[I 2024-04-04 15:17:43,051] Trial 39 finished with value: 0.30833333333333335 and parameters: {'neighbors': 9, 'h': 22}. Best is trial 11 with value: 0.4083333333333333.\n",
      "[I 2024-04-04 15:17:43,079] Trial 40 finished with value: 0.30833333333333335 and parameters: {'neighbors': 6, 'h': 6}. Best is trial 11 with value: 0.4083333333333333.\n",
      "[I 2024-04-04 15:17:43,108] Trial 41 finished with value: 0.39166666666666666 and parameters: {'neighbors': 8, 'h': 1}. Best is trial 11 with value: 0.4083333333333333.\n",
      "[I 2024-04-04 15:17:43,137] Trial 42 finished with value: 0.3 and parameters: {'neighbors': 8, 'h': 12}. Best is trial 11 with value: 0.4083333333333333.\n",
      "[I 2024-04-04 15:17:43,165] Trial 43 finished with value: 0.30833333333333335 and parameters: {'neighbors': 7, 'h': 100}. Best is trial 11 with value: 0.4083333333333333.\n",
      "[I 2024-04-04 15:17:43,193] Trial 44 finished with value: 0.36666666666666664 and parameters: {'neighbors': 10, 'h': 4}. Best is trial 11 with value: 0.4083333333333333.\n",
      "[I 2024-04-04 15:17:43,222] Trial 45 finished with value: 0.2833333333333333 and parameters: {'neighbors': 8, 'h': 10}. Best is trial 11 with value: 0.4083333333333333.\n",
      "[I 2024-04-04 15:17:43,251] Trial 46 finished with value: 0.23333333333333334 and parameters: {'neighbors': 3, 'h': 76}. Best is trial 11 with value: 0.4083333333333333.\n",
      "[I 2024-04-04 15:17:43,278] Trial 47 finished with value: 0.275 and parameters: {'neighbors': 4, 'h': 17}. Best is trial 11 with value: 0.4083333333333333.\n",
      "[I 2024-04-04 15:17:43,307] Trial 48 finished with value: 0.39166666666666666 and parameters: {'neighbors': 9, 'h': 5}. Best is trial 11 with value: 0.4083333333333333.\n",
      "[I 2024-04-04 15:17:43,334] Trial 49 finished with value: 0.30833333333333335 and parameters: {'neighbors': 7, 'h': 13}. Best is trial 11 with value: 0.4083333333333333.\n",
      "[I 2024-04-04 15:17:43,363] Trial 50 finished with value: 0.30833333333333335 and parameters: {'neighbors': 9, 'h': 89}. Best is trial 11 with value: 0.4083333333333333.\n",
      "[I 2024-04-04 15:17:43,391] Trial 51 finished with value: 0.39166666666666666 and parameters: {'neighbors': 7, 'h': 1}. Best is trial 11 with value: 0.4083333333333333.\n",
      "[I 2024-04-04 15:17:43,420] Trial 52 finished with value: 0.3416666666666667 and parameters: {'neighbors': 6, 'h': 5}. Best is trial 11 with value: 0.4083333333333333.\n",
      "[I 2024-04-04 15:17:43,448] Trial 53 finished with value: 0.39166666666666666 and parameters: {'neighbors': 7, 'h': 1}. Best is trial 11 with value: 0.4083333333333333.\n",
      "[I 2024-04-04 15:17:43,476] Trial 54 finished with value: 0.2833333333333333 and parameters: {'neighbors': 8, 'h': 10}. Best is trial 11 with value: 0.4083333333333333.\n",
      "[I 2024-04-04 15:17:43,505] Trial 55 finished with value: 0.3 and parameters: {'neighbors': 5, 'h': 5}. Best is trial 11 with value: 0.4083333333333333.\n",
      "[I 2024-04-04 15:17:43,534] Trial 56 finished with value: 0.3 and parameters: {'neighbors': 8, 'h': 25}. Best is trial 11 with value: 0.4083333333333333.\n",
      "[I 2024-04-04 15:17:43,561] Trial 57 finished with value: 0.275 and parameters: {'neighbors': 6, 'h': 17}. Best is trial 11 with value: 0.4083333333333333.\n",
      "[I 2024-04-04 15:17:43,592] Trial 58 finished with value: 0.31666666666666665 and parameters: {'neighbors': 7, 'h': 8}. Best is trial 11 with value: 0.4083333333333333.\n",
      "[I 2024-04-04 15:17:43,620] Trial 59 finished with value: 0.30833333333333335 and parameters: {'neighbors': 9, 'h': 14}. Best is trial 11 with value: 0.4083333333333333.\n",
      "[I 2024-04-04 15:17:43,648] Trial 60 finished with value: 0.30833333333333335 and parameters: {'neighbors': 10, 'h': 50}. Best is trial 11 with value: 0.4083333333333333.\n",
      "[I 2024-04-04 15:17:43,676] Trial 61 finished with value: 0.39166666666666666 and parameters: {'neighbors': 8, 'h': 1}. Best is trial 11 with value: 0.4083333333333333.\n",
      "[I 2024-04-04 15:17:43,704] Trial 62 finished with value: 0.39166666666666666 and parameters: {'neighbors': 8, 'h': 1}. Best is trial 11 with value: 0.4083333333333333.\n",
      "[I 2024-04-04 15:17:43,737] Trial 63 finished with value: 0.2916666666666667 and parameters: {'neighbors': 8, 'h': 7}. Best is trial 11 with value: 0.4083333333333333.\n",
      "[I 2024-04-04 15:17:43,768] Trial 64 finished with value: 0.325 and parameters: {'neighbors': 7, 'h': 4}. Best is trial 11 with value: 0.4083333333333333.\n",
      "[I 2024-04-04 15:17:43,798] Trial 65 finished with value: 0.30833333333333335 and parameters: {'neighbors': 9, 'h': 11}. Best is trial 11 with value: 0.4083333333333333.\n",
      "[I 2024-04-04 15:17:43,827] Trial 66 finished with value: 0.31666666666666665 and parameters: {'neighbors': 8, 'h': 5}. Best is trial 11 with value: 0.4083333333333333.\n",
      "[I 2024-04-04 15:17:43,855] Trial 67 finished with value: 0.30833333333333335 and parameters: {'neighbors': 7, 'h': 15}. Best is trial 11 with value: 0.4083333333333333.\n",
      "[I 2024-04-04 15:17:43,884] Trial 68 finished with value: 0.25833333333333336 and parameters: {'neighbors': 6, 'h': 9}. Best is trial 11 with value: 0.4083333333333333.\n",
      "[I 2024-04-04 15:17:43,912] Trial 69 finished with value: 0.35833333333333334 and parameters: {'neighbors': 8, 'h': 3}. Best is trial 11 with value: 0.4083333333333333.\n",
      "[I 2024-04-04 15:17:43,939] Trial 70 finished with value: 0.30833333333333335 and parameters: {'neighbors': 7, 'h': 37}. Best is trial 11 with value: 0.4083333333333333.\n",
      "[I 2024-04-04 15:17:43,968] Trial 71 finished with value: 0.35 and parameters: {'neighbors': 9, 'h': 6}. Best is trial 11 with value: 0.4083333333333333.\n",
      "[I 2024-04-04 15:17:43,996] Trial 72 finished with value: 0.36666666666666664 and parameters: {'neighbors': 10, 'h': 4}. Best is trial 11 with value: 0.4083333333333333.\n",
      "[I 2024-04-04 15:17:44,024] Trial 73 finished with value: 0.43333333333333335 and parameters: {'neighbors': 9, 'h': 1}. Best is trial 73 with value: 0.43333333333333335.\n",
      "[I 2024-04-04 15:17:44,052] Trial 74 finished with value: 0.43333333333333335 and parameters: {'neighbors': 9, 'h': 1}. Best is trial 73 with value: 0.43333333333333335.\n",
      "[I 2024-04-04 15:17:44,081] Trial 75 finished with value: 0.30833333333333335 and parameters: {'neighbors': 10, 'h': 11}. Best is trial 73 with value: 0.43333333333333335.\n",
      "[I 2024-04-04 15:17:44,131] Trial 76 finished with value: 0.325 and parameters: {'neighbors': 9, 'h': 8}. Best is trial 73 with value: 0.43333333333333335.\n",
      "[I 2024-04-04 15:17:44,179] Trial 77 finished with value: 0.30833333333333335 and parameters: {'neighbors': 9, 'h': 20}. Best is trial 73 with value: 0.43333333333333335.\n",
      "[I 2024-04-04 15:17:44,213] Trial 78 finished with value: 0.30833333333333335 and parameters: {'neighbors': 10, 'h': 70}. Best is trial 73 with value: 0.43333333333333335.\n",
      "[I 2024-04-04 15:17:44,245] Trial 79 finished with value: 0.4166666666666667 and parameters: {'neighbors': 9, 'h': 4}. Best is trial 73 with value: 0.43333333333333335.\n",
      "[I 2024-04-04 15:17:44,274] Trial 80 finished with value: 0.31666666666666665 and parameters: {'neighbors': 9, 'h': 7}. Best is trial 73 with value: 0.43333333333333335.\n",
      "[I 2024-04-04 15:17:44,302] Trial 81 finished with value: 0.4166666666666667 and parameters: {'neighbors': 9, 'h': 4}. Best is trial 73 with value: 0.43333333333333335.\n",
      "[I 2024-04-04 15:17:44,330] Trial 82 finished with value: 0.4166666666666667 and parameters: {'neighbors': 9, 'h': 3}. Best is trial 73 with value: 0.43333333333333335.\n",
      "[I 2024-04-04 15:17:44,360] Trial 83 finished with value: 0.30833333333333335 and parameters: {'neighbors': 9, 'h': 11}. Best is trial 73 with value: 0.43333333333333335.\n",
      "[I 2024-04-04 15:17:44,394] Trial 84 finished with value: 0.4 and parameters: {'neighbors': 10, 'h': 3}. Best is trial 73 with value: 0.43333333333333335.\n",
      "[I 2024-04-04 15:17:44,422] Trial 85 finished with value: 0.36666666666666664 and parameters: {'neighbors': 10, 'h': 4}. Best is trial 73 with value: 0.43333333333333335.\n",
      "[I 2024-04-04 15:17:44,451] Trial 86 finished with value: 0.325 and parameters: {'neighbors': 10, 'h': 8}. Best is trial 73 with value: 0.43333333333333335.\n",
      "[I 2024-04-04 15:17:44,480] Trial 87 finished with value: 0.30833333333333335 and parameters: {'neighbors': 10, 'h': 13}. Best is trial 73 with value: 0.43333333333333335.\n",
      "[I 2024-04-04 15:17:44,511] Trial 88 finished with value: 0.4166666666666667 and parameters: {'neighbors': 9, 'h': 3}. Best is trial 73 with value: 0.43333333333333335.\n",
      "[I 2024-04-04 15:17:44,540] Trial 89 finished with value: 0.4166666666666667 and parameters: {'neighbors': 9, 'h': 3}. Best is trial 73 with value: 0.43333333333333335.\n",
      "[I 2024-04-04 15:17:44,575] Trial 90 finished with value: 0.4166666666666667 and parameters: {'neighbors': 9, 'h': 4}. Best is trial 73 with value: 0.43333333333333335.\n",
      "[I 2024-04-04 15:17:44,611] Trial 91 finished with value: 0.4166666666666667 and parameters: {'neighbors': 9, 'h': 3}. Best is trial 73 with value: 0.43333333333333335.\n",
      "[I 2024-04-04 15:17:44,641] Trial 92 finished with value: 0.35 and parameters: {'neighbors': 9, 'h': 6}. Best is trial 73 with value: 0.43333333333333335.\n",
      "[I 2024-04-04 15:17:44,670] Trial 93 finished with value: 0.4166666666666667 and parameters: {'neighbors': 9, 'h': 3}. Best is trial 73 with value: 0.43333333333333335.\n",
      "[I 2024-04-04 15:17:44,700] Trial 94 finished with value: 0.30833333333333335 and parameters: {'neighbors': 9, 'h': 9}. Best is trial 73 with value: 0.43333333333333335.\n",
      "[I 2024-04-04 15:17:44,728] Trial 95 finished with value: 0.4166666666666667 and parameters: {'neighbors': 9, 'h': 3}. Best is trial 73 with value: 0.43333333333333335.\n",
      "[I 2024-04-04 15:17:44,764] Trial 96 finished with value: 0.35 and parameters: {'neighbors': 9, 'h': 6}. Best is trial 73 with value: 0.43333333333333335.\n",
      "[I 2024-04-04 15:17:44,793] Trial 97 finished with value: 0.30833333333333335 and parameters: {'neighbors': 9, 'h': 15}. Best is trial 73 with value: 0.43333333333333335.\n",
      "[I 2024-04-04 15:17:44,821] Trial 98 finished with value: 0.30833333333333335 and parameters: {'neighbors': 9, 'h': 18}. Best is trial 73 with value: 0.43333333333333335.\n",
      "[I 2024-04-04 15:17:44,849] Trial 99 finished with value: 0.4166666666666667 and parameters: {'neighbors': 9, 'h': 3}. Best is trial 73 with value: 0.43333333333333335.\n"
     ]
    },
    {
     "name": "stdout",
     "output_type": "stream",
     "text": [
      "Best params:\n",
      "neighbors = 9\n",
      "h = 1\n",
      "Best accuracy= 0.43333333333333335\n"
     ]
    }
   ],
   "source": [
    "study = optuna.create_study(direction='maximize')\n",
    "study.optimize(all_params, n_trials=100)\n",
    "\n",
    "tr = study.best_trial\n",
    "print_best(tr)"
   ]
  },
  {
   "cell_type": "markdown",
   "id": "5c360bec",
   "metadata": {},
   "source": [
    "## Расстояние"
   ]
  },
  {
   "cell_type": "code",
   "execution_count": 24,
   "id": "2a93997a",
   "metadata": {},
   "outputs": [
    {
     "name": "stderr",
     "output_type": "stream",
     "text": [
      "[I 2024-04-04 15:17:44,861] A new study created in memory with name: no-name-10e13c1f-cc4b-40cc-9d63-e11d8bbf1b7e\n",
      "[I 2024-04-04 15:17:44,889] Trial 0 finished with value: 0.30833333333333335 and parameters: {'h': 45}. Best is trial 0 with value: 0.30833333333333335.\n",
      "[I 2024-04-04 15:17:44,908] Trial 1 finished with value: 0.30833333333333335 and parameters: {'h': 28}. Best is trial 0 with value: 0.30833333333333335.\n",
      "[I 2024-04-04 15:17:44,927] Trial 2 finished with value: 0.30833333333333335 and parameters: {'h': 59}. Best is trial 0 with value: 0.30833333333333335.\n",
      "[I 2024-04-04 15:17:44,946] Trial 3 finished with value: 0.30833333333333335 and parameters: {'h': 42}. Best is trial 0 with value: 0.30833333333333335.\n",
      "[I 2024-04-04 15:17:44,965] Trial 4 finished with value: 0.30833333333333335 and parameters: {'h': 25}. Best is trial 0 with value: 0.30833333333333335.\n",
      "[I 2024-04-04 15:17:44,983] Trial 5 finished with value: 0.30833333333333335 and parameters: {'h': 61}. Best is trial 0 with value: 0.30833333333333335.\n",
      "[I 2024-04-04 15:17:45,002] Trial 6 finished with value: 0.30833333333333335 and parameters: {'h': 15}. Best is trial 0 with value: 0.30833333333333335.\n",
      "[I 2024-04-04 15:17:45,023] Trial 7 finished with value: 0.30833333333333335 and parameters: {'h': 17}. Best is trial 0 with value: 0.30833333333333335.\n",
      "[I 2024-04-04 15:17:45,041] Trial 8 finished with value: 0.30833333333333335 and parameters: {'h': 45}. Best is trial 0 with value: 0.30833333333333335.\n",
      "[I 2024-04-04 15:17:45,059] Trial 9 finished with value: 0.30833333333333335 and parameters: {'h': 16}. Best is trial 0 with value: 0.30833333333333335.\n",
      "[I 2024-04-04 15:17:45,082] Trial 10 finished with value: 0.30833333333333335 and parameters: {'h': 88}. Best is trial 0 with value: 0.30833333333333335.\n",
      "[I 2024-04-04 15:17:45,104] Trial 11 finished with value: 0.30833333333333335 and parameters: {'h': 35}. Best is trial 0 with value: 0.30833333333333335.\n",
      "[I 2024-04-04 15:17:45,129] Trial 12 finished with value: 0.30833333333333335 and parameters: {'h': 84}. Best is trial 0 with value: 0.30833333333333335.\n",
      "[I 2024-04-04 15:17:45,152] Trial 13 finished with value: 0.30833333333333335 and parameters: {'h': 68}. Best is trial 0 with value: 0.30833333333333335.\n",
      "[I 2024-04-04 15:17:45,173] Trial 14 finished with value: 0.30833333333333335 and parameters: {'h': 31}. Best is trial 0 with value: 0.30833333333333335.\n",
      "[I 2024-04-04 15:17:45,200] Trial 15 finished with value: 0.30833333333333335 and parameters: {'h': 51}. Best is trial 0 with value: 0.30833333333333335.\n",
      "[I 2024-04-04 15:17:45,225] Trial 16 finished with value: 0.35 and parameters: {'h': 6}. Best is trial 16 with value: 0.35.\n",
      "[I 2024-04-04 15:17:45,250] Trial 17 finished with value: 0.4083333333333333 and parameters: {'h': 2}. Best is trial 17 with value: 0.4083333333333333.\n",
      "[I 2024-04-04 15:17:45,273] Trial 18 finished with value: 0.425 and parameters: {'h': 1}. Best is trial 18 with value: 0.425.\n",
      "[I 2024-04-04 15:17:45,295] Trial 19 finished with value: 0.36666666666666664 and parameters: {'h': 4}. Best is trial 18 with value: 0.425.\n",
      "[I 2024-04-04 15:17:45,317] Trial 20 finished with value: 0.30833333333333335 and parameters: {'h': 9}. Best is trial 18 with value: 0.425.\n",
      "[I 2024-04-04 15:17:45,341] Trial 21 finished with value: 0.425 and parameters: {'h': 1}. Best is trial 18 with value: 0.425.\n",
      "[I 2024-04-04 15:17:45,363] Trial 22 finished with value: 0.4083333333333333 and parameters: {'h': 5}. Best is trial 18 with value: 0.425.\n",
      "[I 2024-04-04 15:17:45,387] Trial 23 finished with value: 0.30833333333333335 and parameters: {'h': 21}. Best is trial 18 with value: 0.425.\n",
      "[I 2024-04-04 15:17:45,410] Trial 24 finished with value: 0.425 and parameters: {'h': 1}. Best is trial 18 with value: 0.425.\n",
      "[I 2024-04-04 15:17:45,433] Trial 25 finished with value: 0.30833333333333335 and parameters: {'h': 100}. Best is trial 18 with value: 0.425.\n",
      "[I 2024-04-04 15:17:45,456] Trial 26 finished with value: 0.30833333333333335 and parameters: {'h': 11}. Best is trial 18 with value: 0.425.\n",
      "[I 2024-04-04 15:17:45,480] Trial 27 finished with value: 0.30833333333333335 and parameters: {'h': 22}. Best is trial 18 with value: 0.425.\n",
      "[I 2024-04-04 15:17:45,505] Trial 28 finished with value: 0.30833333333333335 and parameters: {'h': 12}. Best is trial 18 with value: 0.425.\n",
      "[I 2024-04-04 15:17:45,528] Trial 29 finished with value: 0.30833333333333335 and parameters: {'h': 37}. Best is trial 18 with value: 0.425.\n",
      "[I 2024-04-04 15:17:45,550] Trial 30 finished with value: 0.36666666666666664 and parameters: {'h': 4}. Best is trial 18 with value: 0.425.\n",
      "[I 2024-04-04 15:17:45,573] Trial 31 finished with value: 0.4083333333333333 and parameters: {'h': 2}. Best is trial 18 with value: 0.425.\n",
      "[I 2024-04-04 15:17:45,596] Trial 32 finished with value: 0.425 and parameters: {'h': 1}. Best is trial 18 with value: 0.425.\n",
      "[I 2024-04-04 15:17:45,619] Trial 33 finished with value: 0.425 and parameters: {'h': 1}. Best is trial 18 with value: 0.425.\n",
      "[I 2024-04-04 15:17:45,641] Trial 34 finished with value: 0.30833333333333335 and parameters: {'h': 12}. Best is trial 18 with value: 0.425.\n",
      "[I 2024-04-04 15:17:45,666] Trial 35 finished with value: 0.30833333333333335 and parameters: {'h': 28}. Best is trial 18 with value: 0.425.\n",
      "[I 2024-04-04 15:17:45,689] Trial 36 finished with value: 0.30833333333333335 and parameters: {'h': 18}. Best is trial 18 with value: 0.425.\n",
      "[I 2024-04-04 15:17:45,711] Trial 37 finished with value: 0.30833333333333335 and parameters: {'h': 9}. Best is trial 18 with value: 0.425.\n",
      "[I 2024-04-04 15:17:45,740] Trial 38 finished with value: 0.30833333333333335 and parameters: {'h': 24}. Best is trial 18 with value: 0.425.\n",
      "[I 2024-04-04 15:17:45,766] Trial 39 finished with value: 0.325 and parameters: {'h': 8}. Best is trial 18 with value: 0.425.\n",
      "[I 2024-04-04 15:17:45,791] Trial 40 finished with value: 0.30833333333333335 and parameters: {'h': 15}. Best is trial 18 with value: 0.425.\n",
      "[I 2024-04-04 15:17:45,814] Trial 41 finished with value: 0.4 and parameters: {'h': 3}. Best is trial 18 with value: 0.425.\n",
      "[I 2024-04-04 15:17:45,849] Trial 42 finished with value: 0.425 and parameters: {'h': 1}. Best is trial 18 with value: 0.425.\n",
      "[I 2024-04-04 15:17:45,875] Trial 43 finished with value: 0.425 and parameters: {'h': 1}. Best is trial 18 with value: 0.425.\n",
      "[I 2024-04-04 15:17:45,900] Trial 44 finished with value: 0.30833333333333335 and parameters: {'h': 15}. Best is trial 18 with value: 0.425.\n",
      "[I 2024-04-04 15:17:45,923] Trial 45 finished with value: 0.325 and parameters: {'h': 8}. Best is trial 18 with value: 0.425.\n",
      "[I 2024-04-04 15:17:45,946] Trial 46 finished with value: 0.30833333333333335 and parameters: {'h': 20}. Best is trial 18 with value: 0.425.\n",
      "[I 2024-04-04 15:17:45,970] Trial 47 finished with value: 0.30833333333333335 and parameters: {'h': 61}. Best is trial 18 with value: 0.425.\n",
      "[I 2024-04-04 15:17:45,993] Trial 48 finished with value: 0.30833333333333335 and parameters: {'h': 69}. Best is trial 18 with value: 0.425.\n",
      "[I 2024-04-04 15:17:46,017] Trial 49 finished with value: 0.30833333333333335 and parameters: {'h': 13}. Best is trial 18 with value: 0.425.\n",
      "[I 2024-04-04 15:17:46,041] Trial 50 finished with value: 0.30833333333333335 and parameters: {'h': 28}. Best is trial 18 with value: 0.425.\n",
      "[I 2024-04-04 15:17:46,066] Trial 51 finished with value: 0.3333333333333333 and parameters: {'h': 7}. Best is trial 18 with value: 0.425.\n",
      "[I 2024-04-04 15:17:46,091] Trial 52 finished with value: 0.425 and parameters: {'h': 1}. Best is trial 18 with value: 0.425.\n",
      "[I 2024-04-04 15:17:46,115] Trial 53 finished with value: 0.425 and parameters: {'h': 1}. Best is trial 18 with value: 0.425.\n",
      "[I 2024-04-04 15:17:46,138] Trial 54 finished with value: 0.35 and parameters: {'h': 6}. Best is trial 18 with value: 0.425.\n",
      "[I 2024-04-04 15:17:46,162] Trial 55 finished with value: 0.30833333333333335 and parameters: {'h': 11}. Best is trial 18 with value: 0.425.\n",
      "[I 2024-04-04 15:17:46,188] Trial 56 finished with value: 0.30833333333333335 and parameters: {'h': 18}. Best is trial 18 with value: 0.425.\n",
      "[I 2024-04-04 15:17:46,213] Trial 57 finished with value: 0.35 and parameters: {'h': 6}. Best is trial 18 with value: 0.425.\n",
      "[I 2024-04-04 15:17:46,237] Trial 58 finished with value: 0.30833333333333335 and parameters: {'h': 46}. Best is trial 18 with value: 0.425.\n",
      "[I 2024-04-04 15:17:46,261] Trial 59 finished with value: 0.30833333333333335 and parameters: {'h': 9}. Best is trial 18 with value: 0.425.\n",
      "[I 2024-04-04 15:17:46,285] Trial 60 finished with value: 0.30833333333333335 and parameters: {'h': 54}. Best is trial 18 with value: 0.425.\n",
      "[I 2024-04-04 15:17:46,309] Trial 61 finished with value: 0.425 and parameters: {'h': 1}. Best is trial 18 with value: 0.425.\n",
      "[I 2024-04-04 15:17:46,332] Trial 62 finished with value: 0.4083333333333333 and parameters: {'h': 5}. Best is trial 18 with value: 0.425.\n",
      "[I 2024-04-04 15:17:46,356] Trial 63 finished with value: 0.36666666666666664 and parameters: {'h': 4}. Best is trial 18 with value: 0.425.\n",
      "[I 2024-04-04 15:17:46,379] Trial 64 finished with value: 0.425 and parameters: {'h': 1}. Best is trial 18 with value: 0.425.\n",
      "[I 2024-04-04 15:17:46,403] Trial 65 finished with value: 0.30833333333333335 and parameters: {'h': 14}. Best is trial 18 with value: 0.425.\n",
      "[I 2024-04-04 15:17:46,427] Trial 66 finished with value: 0.30833333333333335 and parameters: {'h': 9}. Best is trial 18 with value: 0.425.\n",
      "[I 2024-04-04 15:17:46,454] Trial 67 finished with value: 0.36666666666666664 and parameters: {'h': 4}. Best is trial 18 with value: 0.425.\n",
      "[I 2024-04-04 15:17:46,487] Trial 68 finished with value: 0.30833333333333335 and parameters: {'h': 75}. Best is trial 18 with value: 0.425.\n",
      "[I 2024-04-04 15:17:46,511] Trial 69 finished with value: 0.30833333333333335 and parameters: {'h': 11}. Best is trial 18 with value: 0.425.\n",
      "[I 2024-04-04 15:17:46,535] Trial 70 finished with value: 0.30833333333333335 and parameters: {'h': 35}. Best is trial 18 with value: 0.425.\n",
      "[I 2024-04-04 15:17:46,559] Trial 71 finished with value: 0.4 and parameters: {'h': 3}. Best is trial 18 with value: 0.425.\n",
      "[I 2024-04-04 15:17:46,583] Trial 72 finished with value: 0.425 and parameters: {'h': 1}. Best is trial 18 with value: 0.425.\n",
      "[I 2024-04-04 15:17:46,606] Trial 73 finished with value: 0.3333333333333333 and parameters: {'h': 7}. Best is trial 18 with value: 0.425.\n",
      "[I 2024-04-04 15:17:46,632] Trial 74 finished with value: 0.425 and parameters: {'h': 1}. Best is trial 18 with value: 0.425.\n",
      "[I 2024-04-04 15:17:46,655] Trial 75 finished with value: 0.325 and parameters: {'h': 10}. Best is trial 18 with value: 0.425.\n",
      "[I 2024-04-04 15:17:46,680] Trial 76 finished with value: 0.4083333333333333 and parameters: {'h': 5}. Best is trial 18 with value: 0.425.\n",
      "[I 2024-04-04 15:17:46,703] Trial 77 finished with value: 0.30833333333333335 and parameters: {'h': 16}. Best is trial 18 with value: 0.425.\n",
      "[I 2024-04-04 15:17:46,727] Trial 78 finished with value: 0.30833333333333335 and parameters: {'h': 13}. Best is trial 18 with value: 0.425.\n",
      "[I 2024-04-04 15:17:46,751] Trial 79 finished with value: 0.3333333333333333 and parameters: {'h': 7}. Best is trial 18 with value: 0.425.\n",
      "[I 2024-04-04 15:17:46,782] Trial 80 finished with value: 0.30833333333333335 and parameters: {'h': 99}. Best is trial 18 with value: 0.425.\n",
      "[I 2024-04-04 15:17:46,808] Trial 81 finished with value: 0.425 and parameters: {'h': 1}. Best is trial 18 with value: 0.425.\n",
      "[I 2024-04-04 15:17:46,832] Trial 82 finished with value: 0.36666666666666664 and parameters: {'h': 4}. Best is trial 18 with value: 0.425.\n",
      "[I 2024-04-04 15:17:46,855] Trial 83 finished with value: 0.425 and parameters: {'h': 1}. Best is trial 18 with value: 0.425.\n",
      "[I 2024-04-04 15:17:46,880] Trial 84 finished with value: 0.36666666666666664 and parameters: {'h': 4}. Best is trial 18 with value: 0.425.\n",
      "[I 2024-04-04 15:17:46,914] Trial 85 finished with value: 0.3333333333333333 and parameters: {'h': 7}. Best is trial 18 with value: 0.425.\n",
      "[I 2024-04-04 15:17:46,939] Trial 86 finished with value: 0.325 and parameters: {'h': 10}. Best is trial 18 with value: 0.425.\n",
      "[I 2024-04-04 15:17:46,964] Trial 87 finished with value: 0.4 and parameters: {'h': 3}. Best is trial 18 with value: 0.425.\n",
      "[I 2024-04-04 15:17:46,988] Trial 88 finished with value: 0.30833333333333335 and parameters: {'h': 18}. Best is trial 18 with value: 0.425.\n",
      "[I 2024-04-04 15:17:47,013] Trial 89 finished with value: 0.35 and parameters: {'h': 6}. Best is trial 18 with value: 0.425.\n",
      "[I 2024-04-04 15:17:47,036] Trial 90 finished with value: 0.30833333333333335 and parameters: {'h': 12}. Best is trial 18 with value: 0.425.\n",
      "[I 2024-04-04 15:17:47,059] Trial 91 finished with value: 0.4083333333333333 and parameters: {'h': 2}. Best is trial 18 with value: 0.425.\n",
      "[I 2024-04-04 15:17:47,084] Trial 92 finished with value: 0.425 and parameters: {'h': 1}. Best is trial 18 with value: 0.425.\n",
      "[I 2024-04-04 15:17:47,108] Trial 93 finished with value: 0.325 and parameters: {'h': 8}. Best is trial 18 with value: 0.425.\n",
      "[I 2024-04-04 15:17:47,132] Trial 94 finished with value: 0.36666666666666664 and parameters: {'h': 4}. Best is trial 18 with value: 0.425.\n",
      "[I 2024-04-04 15:17:47,156] Trial 95 finished with value: 0.35 and parameters: {'h': 6}. Best is trial 18 with value: 0.425.\n",
      "[I 2024-04-04 15:17:47,179] Trial 96 finished with value: 0.4 and parameters: {'h': 3}. Best is trial 18 with value: 0.425.\n",
      "[I 2024-04-04 15:17:47,203] Trial 97 finished with value: 0.30833333333333335 and parameters: {'h': 9}. Best is trial 18 with value: 0.425.\n",
      "[I 2024-04-04 15:17:47,226] Trial 98 finished with value: 0.425 and parameters: {'h': 1}. Best is trial 18 with value: 0.425.\n",
      "[I 2024-04-04 15:17:47,250] Trial 99 finished with value: 0.4083333333333333 and parameters: {'h': 5}. Best is trial 18 with value: 0.425.\n"
     ]
    },
    {
     "name": "stdout",
     "output_type": "stream",
     "text": [
      "Best params:\n",
      "h = 1\n",
      "Best accuracy= 0.425\n"
     ]
    },
    {
     "data": {
      "text/plain": [
       "Text(0, 0.5, 'accuracy')"
      ]
     },
     "execution_count": 24,
     "metadata": {},
     "output_type": "execute_result"
    },
    {
     "data": {
      "image/png": "[encoded data removed]",
      "text/plain": [
       "<Figure size 640x480 with 1 Axes>"
      ]
     },
     "metadata": {},
     "output_type": "display_data"
    }
   ],
   "source": [
    "study = optuna.create_study(direction='maximize')\n",
    "study.optimize(my_h, n_trials=100)\n",
    "tr = study.best_trial\n",
    "print_best(tr)\n",
    "\n",
    "x_values = [trial.params['h'] for trial in study.get_trials()]\n",
    "y_values = [trial.value for trial in study.get_trials()]\n",
    "\n",
    "mp = dict()\n",
    "for i in range(len(x_values)):\n",
    "    key = x_values[i]\n",
    "    value = y_values[i]\n",
    "    if key not in mp:\n",
    "        mp[key] = value\n",
    "    else:\n",
    "        mp[key] = max(mp[key], value)\n",
    "\n",
    "sorted_dict = dict(sorted(mp.items()))\n",
    "x = list(sorted_dict.keys())\n",
    "y = list(sorted_dict.values())\n",
    "\n",
    "plt.plot(x, y, color='blue')\n",
    "plt.grid(True)\n",
    "plt.xlabel('h')\n",
    "plt.ylabel('accuracy')\n",
    "\n"
   ]
  },
  {
   "cell_type": "markdown",
   "id": "c2d41f39",
   "metadata": {},
   "source": [
    "## Соседи"
   ]
  },
  {
   "cell_type": "code",
   "execution_count": 25,
   "id": "7cbb310c",
   "metadata": {},
   "outputs": [
    {
     "name": "stderr",
     "output_type": "stream",
     "text": [
      "[I 2024-04-04 15:17:47,458] A new study created in memory with name: no-name-88d3abed-ce86-47c8-9b30-517a034f92d4\n",
      "[I 2024-04-04 15:17:47,479] Trial 0 finished with value: 0.31666666666666665 and parameters: {'neighbors': 9}. Best is trial 0 with value: 0.31666666666666665.\n",
      "[I 2024-04-04 15:17:47,498] Trial 1 finished with value: 0.2833333333333333 and parameters: {'neighbors': 8}. Best is trial 0 with value: 0.31666666666666665.\n",
      "[I 2024-04-04 15:17:47,520] Trial 2 finished with value: 0.2916666666666667 and parameters: {'neighbors': 4}. Best is trial 0 with value: 0.31666666666666665.\n",
      "[I 2024-04-04 15:17:47,538] Trial 3 finished with value: 0.2833333333333333 and parameters: {'neighbors': 6}. Best is trial 0 with value: 0.31666666666666665.\n",
      "[I 2024-04-04 15:17:47,557] Trial 4 finished with value: 0.2833333333333333 and parameters: {'neighbors': 8}. Best is trial 0 with value: 0.31666666666666665.\n",
      "[I 2024-04-04 15:17:47,574] Trial 5 finished with value: 0.2833333333333333 and parameters: {'neighbors': 8}. Best is trial 0 with value: 0.31666666666666665.\n",
      "[I 2024-04-04 15:17:47,593] Trial 6 finished with value: 0.325 and parameters: {'neighbors': 10}. Best is trial 6 with value: 0.325.\n",
      "[I 2024-04-04 15:17:47,611] Trial 7 finished with value: 0.2916666666666667 and parameters: {'neighbors': 4}. Best is trial 6 with value: 0.325.\n",
      "[I 2024-04-04 15:17:47,631] Trial 8 finished with value: 0.25 and parameters: {'neighbors': 5}. Best is trial 6 with value: 0.325.\n",
      "[I 2024-04-04 15:17:47,648] Trial 9 finished with value: 0.30833333333333335 and parameters: {'neighbors': 7}. Best is trial 6 with value: 0.325.\n",
      "[I 2024-04-04 15:17:47,671] Trial 10 finished with value: 0.325 and parameters: {'neighbors': 10}. Best is trial 6 with value: 0.325.\n",
      "[I 2024-04-04 15:17:47,693] Trial 11 finished with value: 0.325 and parameters: {'neighbors': 10}. Best is trial 6 with value: 0.325.\n",
      "[I 2024-04-04 15:17:47,715] Trial 12 finished with value: 0.325 and parameters: {'neighbors': 10}. Best is trial 6 with value: 0.325.\n",
      "[I 2024-04-04 15:17:47,738] Trial 13 finished with value: 0.325 and parameters: {'neighbors': 10}. Best is trial 6 with value: 0.325.\n",
      "[I 2024-04-04 15:17:47,761] Trial 14 finished with value: 0.31666666666666665 and parameters: {'neighbors': 9}. Best is trial 6 with value: 0.325.\n",
      "[I 2024-04-04 15:17:47,784] Trial 15 finished with value: 0.31666666666666665 and parameters: {'neighbors': 9}. Best is trial 6 with value: 0.325.\n",
      "[I 2024-04-04 15:17:47,808] Trial 16 finished with value: 0.26666666666666666 and parameters: {'neighbors': 3}. Best is trial 6 with value: 0.325.\n",
      "[I 2024-04-04 15:17:47,832] Trial 17 finished with value: 0.30833333333333335 and parameters: {'neighbors': 7}. Best is trial 6 with value: 0.325.\n",
      "[I 2024-04-04 15:17:47,855] Trial 18 finished with value: 0.325 and parameters: {'neighbors': 10}. Best is trial 6 with value: 0.325.\n",
      "[I 2024-04-04 15:17:47,886] Trial 19 finished with value: 0.2833333333333333 and parameters: {'neighbors': 6}. Best is trial 6 with value: 0.325.\n",
      "[I 2024-04-04 15:17:47,910] Trial 20 finished with value: 0.31666666666666665 and parameters: {'neighbors': 9}. Best is trial 6 with value: 0.325.\n",
      "[I 2024-04-04 15:17:47,933] Trial 21 finished with value: 0.325 and parameters: {'neighbors': 10}. Best is trial 6 with value: 0.325.\n",
      "[I 2024-04-04 15:17:47,955] Trial 22 finished with value: 0.325 and parameters: {'neighbors': 10}. Best is trial 6 with value: 0.325.\n",
      "[I 2024-04-04 15:17:47,978] Trial 23 finished with value: 0.31666666666666665 and parameters: {'neighbors': 9}. Best is trial 6 with value: 0.325.\n",
      "[I 2024-04-04 15:17:48,000] Trial 24 finished with value: 0.2833333333333333 and parameters: {'neighbors': 8}. Best is trial 6 with value: 0.325.\n",
      "[I 2024-04-04 15:17:48,023] Trial 25 finished with value: 0.325 and parameters: {'neighbors': 10}. Best is trial 6 with value: 0.325.\n",
      "[I 2024-04-04 15:17:48,045] Trial 26 finished with value: 0.31666666666666665 and parameters: {'neighbors': 9}. Best is trial 6 with value: 0.325.\n",
      "[I 2024-04-04 15:17:48,069] Trial 27 finished with value: 0.325 and parameters: {'neighbors': 10}. Best is trial 6 with value: 0.325.\n",
      "[I 2024-04-04 15:17:48,092] Trial 28 finished with value: 0.2833333333333333 and parameters: {'neighbors': 8}. Best is trial 6 with value: 0.325.\n",
      "[I 2024-04-04 15:17:48,116] Trial 29 finished with value: 0.30833333333333335 and parameters: {'neighbors': 7}. Best is trial 6 with value: 0.325.\n",
      "[I 2024-04-04 15:17:48,141] Trial 30 finished with value: 0.31666666666666665 and parameters: {'neighbors': 9}. Best is trial 6 with value: 0.325.\n",
      "[I 2024-04-04 15:17:48,167] Trial 31 finished with value: 0.325 and parameters: {'neighbors': 10}. Best is trial 6 with value: 0.325.\n",
      "[I 2024-04-04 15:17:48,191] Trial 32 finished with value: 0.31666666666666665 and parameters: {'neighbors': 9}. Best is trial 6 with value: 0.325.\n",
      "[I 2024-04-04 15:17:48,215] Trial 33 finished with value: 0.325 and parameters: {'neighbors': 10}. Best is trial 6 with value: 0.325.\n",
      "[I 2024-04-04 15:17:48,238] Trial 34 finished with value: 0.325 and parameters: {'neighbors': 10}. Best is trial 6 with value: 0.325.\n",
      "[I 2024-04-04 15:17:48,261] Trial 35 finished with value: 0.2833333333333333 and parameters: {'neighbors': 8}. Best is trial 6 with value: 0.325.\n",
      "[I 2024-04-04 15:17:48,284] Trial 36 finished with value: 0.31666666666666665 and parameters: {'neighbors': 9}. Best is trial 6 with value: 0.325.\n",
      "[I 2024-04-04 15:17:48,308] Trial 37 finished with value: 0.325 and parameters: {'neighbors': 10}. Best is trial 6 with value: 0.325.\n",
      "[I 2024-04-04 15:17:48,330] Trial 38 finished with value: 0.25 and parameters: {'neighbors': 5}. Best is trial 6 with value: 0.325.\n",
      "[I 2024-04-04 15:17:48,352] Trial 39 finished with value: 0.2833333333333333 and parameters: {'neighbors': 8}. Best is trial 6 with value: 0.325.\n",
      "[I 2024-04-04 15:17:48,375] Trial 40 finished with value: 0.31666666666666665 and parameters: {'neighbors': 9}. Best is trial 6 with value: 0.325.\n",
      "[I 2024-04-04 15:17:48,399] Trial 41 finished with value: 0.325 and parameters: {'neighbors': 10}. Best is trial 6 with value: 0.325.\n",
      "[I 2024-04-04 15:17:48,422] Trial 42 finished with value: 0.325 and parameters: {'neighbors': 10}. Best is trial 6 with value: 0.325.\n",
      "[I 2024-04-04 15:17:48,445] Trial 43 finished with value: 0.325 and parameters: {'neighbors': 10}. Best is trial 6 with value: 0.325.\n",
      "[I 2024-04-04 15:17:48,469] Trial 44 finished with value: 0.31666666666666665 and parameters: {'neighbors': 9}. Best is trial 6 with value: 0.325.\n",
      "[I 2024-04-04 15:17:48,495] Trial 45 finished with value: 0.325 and parameters: {'neighbors': 10}. Best is trial 6 with value: 0.325.\n",
      "[I 2024-04-04 15:17:48,520] Trial 46 finished with value: 0.26666666666666666 and parameters: {'neighbors': 3}. Best is trial 6 with value: 0.325.\n",
      "[I 2024-04-04 15:17:48,543] Trial 47 finished with value: 0.31666666666666665 and parameters: {'neighbors': 9}. Best is trial 6 with value: 0.325.\n",
      "[I 2024-04-04 15:17:48,566] Trial 48 finished with value: 0.325 and parameters: {'neighbors': 10}. Best is trial 6 with value: 0.325.\n",
      "[I 2024-04-04 15:17:48,589] Trial 49 finished with value: 0.31666666666666665 and parameters: {'neighbors': 9}. Best is trial 6 with value: 0.325.\n",
      "[I 2024-04-04 15:17:48,612] Trial 50 finished with value: 0.25 and parameters: {'neighbors': 5}. Best is trial 6 with value: 0.325.\n",
      "[I 2024-04-04 15:17:48,637] Trial 51 finished with value: 0.325 and parameters: {'neighbors': 10}. Best is trial 6 with value: 0.325.\n",
      "[I 2024-04-04 15:17:48,660] Trial 52 finished with value: 0.325 and parameters: {'neighbors': 10}. Best is trial 6 with value: 0.325.\n",
      "[I 2024-04-04 15:17:48,683] Trial 53 finished with value: 0.325 and parameters: {'neighbors': 10}. Best is trial 6 with value: 0.325.\n",
      "[I 2024-04-04 15:17:48,707] Trial 54 finished with value: 0.31666666666666665 and parameters: {'neighbors': 9}. Best is trial 6 with value: 0.325.\n",
      "[I 2024-04-04 15:17:48,731] Trial 55 finished with value: 0.325 and parameters: {'neighbors': 10}. Best is trial 6 with value: 0.325.\n",
      "[I 2024-04-04 15:17:48,754] Trial 56 finished with value: 0.31666666666666665 and parameters: {'neighbors': 9}. Best is trial 6 with value: 0.325.\n",
      "[I 2024-04-04 15:17:48,779] Trial 57 finished with value: 0.325 and parameters: {'neighbors': 10}. Best is trial 6 with value: 0.325.\n",
      "[I 2024-04-04 15:17:48,806] Trial 58 finished with value: 0.2916666666666667 and parameters: {'neighbors': 4}. Best is trial 6 with value: 0.325.\n",
      "[I 2024-04-04 15:17:48,841] Trial 59 finished with value: 0.2833333333333333 and parameters: {'neighbors': 8}. Best is trial 6 with value: 0.325.\n",
      "[I 2024-04-04 15:17:48,867] Trial 60 finished with value: 0.325 and parameters: {'neighbors': 10}. Best is trial 6 with value: 0.325.\n",
      "[I 2024-04-04 15:17:48,890] Trial 61 finished with value: 0.325 and parameters: {'neighbors': 10}. Best is trial 6 with value: 0.325.\n",
      "[I 2024-04-04 15:17:48,912] Trial 62 finished with value: 0.325 and parameters: {'neighbors': 10}. Best is trial 6 with value: 0.325.\n",
      "[I 2024-04-04 15:17:48,935] Trial 63 finished with value: 0.31666666666666665 and parameters: {'neighbors': 9}. Best is trial 6 with value: 0.325.\n",
      "[I 2024-04-04 15:17:48,959] Trial 64 finished with value: 0.325 and parameters: {'neighbors': 10}. Best is trial 6 with value: 0.325.\n",
      "[I 2024-04-04 15:17:48,983] Trial 65 finished with value: 0.2833333333333333 and parameters: {'neighbors': 6}. Best is trial 6 with value: 0.325.\n",
      "[I 2024-04-04 15:17:49,005] Trial 66 finished with value: 0.30833333333333335 and parameters: {'neighbors': 7}. Best is trial 6 with value: 0.325.\n",
      "[I 2024-04-04 15:17:49,030] Trial 67 finished with value: 0.31666666666666665 and parameters: {'neighbors': 9}. Best is trial 6 with value: 0.325.\n",
      "[I 2024-04-04 15:17:49,054] Trial 68 finished with value: 0.325 and parameters: {'neighbors': 10}. Best is trial 6 with value: 0.325.\n",
      "[I 2024-04-04 15:17:49,078] Trial 69 finished with value: 0.325 and parameters: {'neighbors': 10}. Best is trial 6 with value: 0.325.\n",
      "[I 2024-04-04 15:17:49,104] Trial 70 finished with value: 0.31666666666666665 and parameters: {'neighbors': 9}. Best is trial 6 with value: 0.325.\n",
      "[I 2024-04-04 15:17:49,127] Trial 71 finished with value: 0.325 and parameters: {'neighbors': 10}. Best is trial 6 with value: 0.325.\n",
      "[I 2024-04-04 15:17:49,151] Trial 72 finished with value: 0.325 and parameters: {'neighbors': 10}. Best is trial 6 with value: 0.325.\n",
      "[I 2024-04-04 15:17:49,174] Trial 73 finished with value: 0.325 and parameters: {'neighbors': 10}. Best is trial 6 with value: 0.325.\n",
      "[I 2024-04-04 15:17:49,197] Trial 74 finished with value: 0.325 and parameters: {'neighbors': 10}. Best is trial 6 with value: 0.325.\n",
      "[I 2024-04-04 15:17:49,219] Trial 75 finished with value: 0.31666666666666665 and parameters: {'neighbors': 9}. Best is trial 6 with value: 0.325.\n",
      "[I 2024-04-04 15:17:49,243] Trial 76 finished with value: 0.325 and parameters: {'neighbors': 10}. Best is trial 6 with value: 0.325.\n",
      "[I 2024-04-04 15:17:49,265] Trial 77 finished with value: 0.325 and parameters: {'neighbors': 10}. Best is trial 6 with value: 0.325.\n",
      "[I 2024-04-04 15:17:49,289] Trial 78 finished with value: 0.31666666666666665 and parameters: {'neighbors': 9}. Best is trial 6 with value: 0.325.\n",
      "[I 2024-04-04 15:17:49,313] Trial 79 finished with value: 0.325 and parameters: {'neighbors': 10}. Best is trial 6 with value: 0.325.\n",
      "[I 2024-04-04 15:17:49,336] Trial 80 finished with value: 0.31666666666666665 and parameters: {'neighbors': 9}. Best is trial 6 with value: 0.325.\n",
      "[I 2024-04-04 15:17:49,360] Trial 81 finished with value: 0.325 and parameters: {'neighbors': 10}. Best is trial 6 with value: 0.325.\n",
      "[I 2024-04-04 15:17:49,385] Trial 82 finished with value: 0.325 and parameters: {'neighbors': 10}. Best is trial 6 with value: 0.325.\n",
      "[I 2024-04-04 15:17:49,418] Trial 83 finished with value: 0.325 and parameters: {'neighbors': 10}. Best is trial 6 with value: 0.325.\n",
      "[I 2024-04-04 15:17:49,443] Trial 84 finished with value: 0.325 and parameters: {'neighbors': 10}. Best is trial 6 with value: 0.325.\n",
      "[I 2024-04-04 15:17:49,467] Trial 85 finished with value: 0.325 and parameters: {'neighbors': 10}. Best is trial 6 with value: 0.325.\n",
      "[I 2024-04-04 15:17:49,491] Trial 86 finished with value: 0.31666666666666665 and parameters: {'neighbors': 9}. Best is trial 6 with value: 0.325.\n",
      "[I 2024-04-04 15:17:49,513] Trial 87 finished with value: 0.325 and parameters: {'neighbors': 10}. Best is trial 6 with value: 0.325.\n",
      "[I 2024-04-04 15:17:49,537] Trial 88 finished with value: 0.325 and parameters: {'neighbors': 10}. Best is trial 6 with value: 0.325.\n",
      "[I 2024-04-04 15:17:49,560] Trial 89 finished with value: 0.325 and parameters: {'neighbors': 10}. Best is trial 6 with value: 0.325.\n",
      "[I 2024-04-04 15:17:49,584] Trial 90 finished with value: 0.31666666666666665 and parameters: {'neighbors': 9}. Best is trial 6 with value: 0.325.\n",
      "[I 2024-04-04 15:17:49,607] Trial 91 finished with value: 0.325 and parameters: {'neighbors': 10}. Best is trial 6 with value: 0.325.\n",
      "[I 2024-04-04 15:17:49,631] Trial 92 finished with value: 0.325 and parameters: {'neighbors': 10}. Best is trial 6 with value: 0.325.\n",
      "[I 2024-04-04 15:17:49,656] Trial 93 finished with value: 0.325 and parameters: {'neighbors': 10}. Best is trial 6 with value: 0.325.\n",
      "[I 2024-04-04 15:17:49,680] Trial 94 finished with value: 0.325 and parameters: {'neighbors': 10}. Best is trial 6 with value: 0.325.\n",
      "[I 2024-04-04 15:17:49,703] Trial 95 finished with value: 0.325 and parameters: {'neighbors': 10}. Best is trial 6 with value: 0.325.\n",
      "[I 2024-04-04 15:17:49,730] Trial 96 finished with value: 0.31666666666666665 and parameters: {'neighbors': 9}. Best is trial 6 with value: 0.325.\n",
      "[I 2024-04-04 15:17:49,755] Trial 97 finished with value: 0.30833333333333335 and parameters: {'neighbors': 7}. Best is trial 6 with value: 0.325.\n",
      "[I 2024-04-04 15:17:49,778] Trial 98 finished with value: 0.25 and parameters: {'neighbors': 5}. Best is trial 6 with value: 0.325.\n",
      "[I 2024-04-04 15:17:49,803] Trial 99 finished with value: 0.325 and parameters: {'neighbors': 10}. Best is trial 6 with value: 0.325.\n"
     ]
    },
    {
     "name": "stdout",
     "output_type": "stream",
     "text": [
      "Best params:\n",
      "neighbors = 10\n",
      "Best accuracy= 0.325\n"
     ]
    },
    {
     "data": {
      "text/plain": [
       "Text(0.5, 0, 'neighbors')"
      ]
     },
     "execution_count": 25,
     "metadata": {},
     "output_type": "execute_result"
    },
    {
     "data": {
      "image/png": "[encoded data removed]",
      "text/plain": [
       "<Figure size 640x480 with 1 Axes>"
      ]
     },
     "metadata": {},
     "output_type": "display_data"
    }
   ],
   "source": [
    "study = optuna.create_study(direction='maximize')\n",
    "study.optimize(my_n, n_trials=100)\n",
    "tr = study.best_trial\n",
    "print_best(tr)\n",
    "\n",
    "x_values = [trial.params['neighbors'] for trial in study.get_trials()]\n",
    "y_values = [trial.value for trial in study.get_trials()]\n",
    "\n",
    "mp = dict()\n",
    "for i in range(len(x_values)):\n",
    "    key = x_values[i]\n",
    "    value = y_values[i]\n",
    "    if key not in mp:\n",
    "        mp[key] = value\n",
    "    else:\n",
    "        mp[key] = max(mp[key], value)\n",
    "\n",
    "sorted_dict = dict(sorted(mp.items()))\n",
    "x = list(sorted_dict.keys())\n",
    "y = list(sorted_dict.values())\n",
    "\n",
    "plt.plot(x, y, color='blue')\n",
    "plt.grid(True)\n",
    "plt.xlabel('neighbors')"
   ]
  },
  {
   "cell_type": "code",
   "execution_count": 26,
   "id": "377e224a",
   "metadata": {},
   "outputs": [
    {
     "data": {
      "image/png": "[encoded data removed]",
      "text/plain": [
       "<Figure size 640x480 with 1 Axes>"
      ]
     },
     "metadata": {},
     "output_type": "display_data"
    },
    {
     "name": "stdout",
     "output_type": "stream",
     "text": [
      "Best kernel= <function uniform at 0x000001D65D2E09A0>\n"
     ]
    }
   ],
   "source": [
    "mp = dict()\n",
    "best_kernel = None \n",
    "best_acc = -1\n",
    "for kernel in kernels:\n",
    "    model = MyKnn(train=train, h=10, n=10, kernel=kernel, metric=evk)\n",
    "    res = model.predict(test_x)\n",
    "    acc = accuracy_score(res, exp)\n",
    "    mp[kernel.__name__] = acc\n",
    "    if acc > best_acc:\n",
    "        best_kernel = kernel\n",
    "        best_acc = acc\n",
    "\n",
    "x_values = list(mp.keys())    \n",
    "y_values = list(mp.values())\n",
    "\n",
    "plt.bar(x_values, y_values)\n",
    "plt.show()\n",
    "print(\"Best kernel=\", best_kernel)"
   ]
  },
  {
   "cell_type": "code",
   "execution_count": 27,
   "id": "29b433d9",
   "metadata": {},
   "outputs": [
    {
     "data": {
      "image/png": "[encoded data removed]",
      "text/plain": [
       "<Figure size 640x480 with 1 Axes>"
      ]
     },
     "metadata": {},
     "output_type": "display_data"
    },
    {
     "name": "stdout",
     "output_type": "stream",
     "text": [
      "Best metric= <function manhattan at 0x000001D65D2AB920>\n"
     ]
    }
   ],
   "source": [
    "mp = dict()\n",
    "best_metric = None\n",
    "best_acc = 0\n",
    "for metr in metrics:\n",
    "   model = MyKnn(train=train, h=10, n=10, kernel=uniform, metric=metr) \n",
    "   res = model.predict(test_x)\n",
    "   acc = accuracy_score(res, exp)\n",
    "   mp[metr.__name__] = acc\n",
    "   if acc > best_acc:\n",
    "      best_metric = metr\n",
    "      best_acc = acc\n",
    "      \n",
    "\n",
    "x_values = list(mp.keys())\n",
    "y_values = list(mp.values())\n",
    "plt.bar(x_values, y_values)\n",
    "plt.show()\n",
    "print(\"Best metric=\", best_metric)"
   ]
  },
  {
   "cell_type": "code",
   "execution_count": 30,
   "id": "c5833335",
   "metadata": {},
   "outputs": [
    {
     "name": "stdout",
     "output_type": "stream",
     "text": [
      "[0.24203208227207357, 0.3990434422338111, 0.3990434422338111, 0.24203208227207357, 0.24203208227207357, 0.24203208227207357, 0.24203208227207357, 0.24203208227207357, 0.24203208227207357, 0.24203208227207357, 0.24203208227207357, 0.24203208227207357, 0.24203208227207357, 0.24203208227207357, 0.24203208227207357, 0.24203208227207357, 0.24203208227207357, 0.24203208227207357, 0.24203208227207357, 0.24203208227207357]\n",
      "Result = 0.43333333333333335\n"
     ]
    }
   ],
   "source": [
    "def my_lowess(train, kernel):\n",
    "    w = [1] * len(train)\n",
    "    for i in range(len(train)):\n",
    "        train_copy = train.copy()\n",
    "        del train_copy[i]\n",
    "        model = MyKnn(train_copy, kernel=best_kernel, metric=best_metric, n=3, h=8)\n",
    "        res = model.predict([train[i][0]])[0]\n",
    "        tmp = kernel(res - train[0][1])\n",
    "        w[i] = tmp \n",
    "    return w\n",
    "\n",
    "w = my_lowess(train, gaussian)\n",
    "print(w[:20])\n",
    "model = MyKnn(train, kernel=uniform, metric=evk, n=22, w=None)\n",
    "res = model.predict(test_x)\n",
    "print('Result =', accuracy_score(exp, res))\n"
   ]
  },
  {
   "cell_type": "code",
   "execution_count": 29,
   "id": "13ebdb4a",
   "metadata": {},
   "outputs": [
    {
     "name": "stdout",
     "output_type": "stream",
     "text": [
      "Result = 0.44166666666666665\n"
     ]
    }
   ],
   "source": [
    "knn = KNeighborsClassifier(n_neighbors=3, p=8, weights='distance')\n",
    "knn.fit(X_train, y_train)\n",
    "y_pred = knn.predict(X_test)\n",
    "res1 = accuracy_score(y_test, y_pred)\n",
    "print('Result =',res1)"
   ]
  }
 ],
 "metadata": {
  "kernelspec": {
   "display_name": "Python 3 (ipykernel)",
   "language": "python",
   "name": "python3"
  },
  "language_info": {
   "codemirror_mode": {
    "name": "ipython",
    "version": 3
   },
   "file_extension": ".py",
   "mimetype": "text/x-python",
   "name": "python",
   "nbconvert_exporter": "python",
   "pygments_lexer": "ipython3",
   "version": "3.11.5"
  },
  "widgets": {
   "application/vnd.jupyter.widget-state+json": {
    "state": {},
    "version_major": 2,
    "version_minor": 0
   }
  }
 },
 "nbformat": 4,
 "nbformat_minor": 5
}
